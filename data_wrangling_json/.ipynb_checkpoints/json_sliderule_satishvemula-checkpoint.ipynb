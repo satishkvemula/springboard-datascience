{
 "cells": [
  {
   "cell_type": "markdown",
   "metadata": {},
   "source": [
    "## imports for Python, Pandas"
   ]
  },
  {
   "cell_type": "code",
   "execution_count": 21,
   "metadata": {
    "collapsed": true
   },
   "outputs": [],
   "source": [
    "import pandas as pd\n",
    "import json\n",
    "from pandas.io.json import json_normalize\n",
    "\n",
    "from collections import Counter"
   ]
  },
  {
   "cell_type": "markdown",
   "metadata": {},
   "source": []
  },
  {
   "cell_type": "code",
   "execution_count": 70,
   "metadata": {
    "collapsed": false
   },
   "outputs": [],
   "source": [
    "worldbank_projects_df = pd.read_json('data/world_bank_projects.json')\n"
   ]
  },
  {
   "cell_type": "code",
   "execution_count": null,
   "metadata": {
    "collapsed": false
   },
   "outputs": [],
   "source": []
  },
  {
   "cell_type": "code",
   "execution_count": 23,
   "metadata": {
    "collapsed": false
   },
   "outputs": [],
   "source": [
    "# Preparing the Project Code dictionary mapping code to name\n",
    "projectCodeDict={}\n",
    "\n",
    "nameCodeArrays = worldbank_projects_df['mjtheme_namecode'].values\n",
    "for nameCodeArray in nameCodeArrays:\n",
    "    for nameCode in nameCodeArray:\n",
    "        if nameCode['name']:\n",
    "            projectCodeDict[nameCode['code']] = nameCode['name']"
   ]
  },
  {
   "cell_type": "code",
   "execution_count": 27,
   "metadata": {
    "collapsed": false
   },
   "outputs": [],
   "source": [
    "# Get all name code entries, and get counts based on the code\n",
    "nameCodeEntries = [j for i in nameCodeArrays for j in i]\n",
    "\n",
    "projectCodeCounter = Counter([nameCodeEntry['code'] for nameCodeEntry in nameCodeEntries])\n",
    "sortedByProjectCodeDesc = sorted(projectCodeCounter, key=projectCodeCounter.get,reverse=True)\n"
   ]
  },
  {
   "cell_type": "code",
   "execution_count": null,
   "metadata": {
    "collapsed": false
   },
   "outputs": [],
   "source": []
  },
  {
   "cell_type": "code",
   "execution_count": 28,
   "metadata": {
    "collapsed": false
   },
   "outputs": [
    {
     "data": {
      "text/plain": [
       "array([u'Indonesia', u'China', u'Vietnam', u'India', u'Yemen, Republic of',\n",
       "       u'Nepal', u'Bangladesh', u'Morocco', u'Mozambique', u'Africa'], dtype=object)"
      ]
     },
     "execution_count": 28,
     "metadata": {},
     "output_type": "execute_result"
    }
   ],
   "source": [
    "# 1. Find top 10 countries with most projects\n",
    "worldbank_projects_df[['countryshortname']].groupby(by='countryshortname').size().sort_values(ascending=False).head(n=10).index.get_values()\n"
   ]
  },
  {
   "cell_type": "code",
   "execution_count": 29,
   "metadata": {
    "collapsed": false
   },
   "outputs": [
    {
     "data": {
      "text/plain": [
       "[u'Environment and natural resources management',\n",
       " u'Rural development',\n",
       " u'Human development',\n",
       " u'Public sector governance',\n",
       " u'Social protection and risk management',\n",
       " u'Financial and private sector development',\n",
       " u'Social dev/gender/inclusion',\n",
       " u'Trade and integration',\n",
       " u'Urban development',\n",
       " u'Economic management']"
      ]
     },
     "execution_count": 29,
     "metadata": {},
     "output_type": "execute_result"
    }
   ],
   "source": [
    "# 2.Find the top 10 major project themes (using column 'mjtheme_namecode')\n",
    "[projectCodeDict[j] for j in sortedByProjectCodeDesc[:10]]"
   ]
  },
  {
   "cell_type": "code",
   "execution_count": 36,
   "metadata": {
    "collapsed": false
   },
   "outputs": [
    {
     "data": {
      "text/plain": [
       "[{u'code': u'8', u'name': u'Human development'},\n",
       " {u'code': u'11', u'name': u''}]"
      ]
     },
     "execution_count": 36,
     "metadata": {},
     "output_type": "execute_result"
    }
   ],
   "source": [
    "# In 2. above you will notice that some entries have only the code and the name is missing. \n",
    "# Create a dataframe with the missing names filled in.\n",
    "worldbank_projects_df['mjtheme_namecode'][0]"
   ]
  },
  {
   "cell_type": "code",
   "execution_count": 83,
   "metadata": {
    "collapsed": true
   },
   "outputs": [],
   "source": [
    "def fillEmptyProjectNames(nameCodeArray):\n",
    "    filledNameCodeArray = []\n",
    "    for nameCode in nameCodeArray:\n",
    "        filledNameCode = {}\n",
    "        filledNameCode['code'] = nameCode['code']\n",
    "        filledNameCode['name'] = projectCodeDict[nameCode['code']]\n",
    "        filledNameCodeArray.append(filledNameCode)\n",
    "    return filledNameCodeArray"
   ]
  },
  {
   "cell_type": "code",
   "execution_count": null,
   "metadata": {
    "collapsed": false
   },
   "outputs": [],
   "source": []
  },
  {
   "cell_type": "code",
   "execution_count": 90,
   "metadata": {
    "collapsed": false
   },
   "outputs": [],
   "source": [
    "worldbank_projects_df_filledIn = worldbank_projects_df.copy()\n",
    "worldbank_projects_df_filledIn['mjtheme_namecode'] = worldbank_projects_df_filledIn.apply(lambda row: fillEmptyProjectNames(row['mjtheme_namecode']), axis=1)"
   ]
  },
  {
   "cell_type": "code",
   "execution_count": 95,
   "metadata": {
    "collapsed": false
   },
   "outputs": [
    {
     "data": {
      "text/plain": [
       "[{u'code': u'8', u'name': u'Human development'},\n",
       " {u'code': u'11', u'name': u''}]"
      ]
     },
     "execution_count": 95,
     "metadata": {},
     "output_type": "execute_result"
    }
   ],
   "source": [
    "\n",
    "worldbank_projects_df['mjtheme_namecode'][0]"
   ]
  },
  {
   "cell_type": "code",
   "execution_count": 96,
   "metadata": {
    "collapsed": false
   },
   "outputs": [
    {
     "data": {
      "text/plain": [
       "[{'code': u'8', 'name': u'Human development'},\n",
       " {'code': u'11', 'name': u'Environment and natural resources management'}]"
      ]
     },
     "execution_count": 96,
     "metadata": {},
     "output_type": "execute_result"
    }
   ],
   "source": [
    "\n",
    "worldbank_projects_df_filledIn['mjtheme_namecode'][0]"
   ]
  },
  {
   "cell_type": "code",
   "execution_count": null,
   "metadata": {
    "collapsed": true
   },
   "outputs": [],
   "source": []
  }
 ],
 "metadata": {
  "kernelspec": {
   "display_name": "Python 2",
   "language": "python",
   "name": "python2"
  },
  "language_info": {
   "codemirror_mode": {
    "name": "ipython",
    "version": 2
   },
   "file_extension": ".py",
   "mimetype": "text/x-python",
   "name": "python",
   "nbconvert_exporter": "python",
   "pygments_lexer": "ipython2",
   "version": "2.7.13"
  }
 },
 "nbformat": 4,
 "nbformat_minor": 0
}
