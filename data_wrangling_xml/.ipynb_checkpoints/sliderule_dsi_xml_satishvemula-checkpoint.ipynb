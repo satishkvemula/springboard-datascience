{
 "cells": [
  {
   "cell_type": "markdown",
   "metadata": {},
   "source": [
    "# XML example and exercise\n",
    "****\n",
    "+ study examples of accessing nodes in XML tree structure  \n",
    "+ work on exercise to be completed and submitted\n",
    "****\n",
    "+ reference: https://docs.python.org/2.7/library/xml.etree.elementtree.html\n",
    "+ data source: http://www.dbis.informatik.uni-goettingen.de/Mondial\n",
    "****"
   ]
  },
  {
   "cell_type": "code",
   "execution_count": 1,
   "metadata": {
    "collapsed": true
   },
   "outputs": [],
   "source": [
    "from xml.etree import ElementTree as ET"
   ]
  },
  {
   "cell_type": "markdown",
   "metadata": {},
   "source": [
    "## XML example\n",
    "\n",
    "+ for details about tree traversal and iterators, see https://docs.python.org/2.7/library/xml.etree.elementtree.html"
   ]
  },
  {
   "cell_type": "code",
   "execution_count": 2,
   "metadata": {
    "collapsed": true
   },
   "outputs": [],
   "source": [
    "document_tree = ET.parse( './data/mondial_database_less.xml' )"
   ]
  },
  {
   "cell_type": "code",
   "execution_count": 3,
   "metadata": {
    "collapsed": false
   },
   "outputs": [
    {
     "name": "stdout",
     "output_type": "stream",
     "text": [
      "Albania\n",
      "Greece\n",
      "Macedonia\n",
      "Serbia\n",
      "Montenegro\n",
      "Kosovo\n",
      "Andorra\n"
     ]
    }
   ],
   "source": [
    "# print names of all countries\n",
    "for child in document_tree.getroot():\n",
    "    print child.find('name').text"
   ]
  },
  {
   "cell_type": "code",
   "execution_count": 7,
   "metadata": {
    "collapsed": false
   },
   "outputs": [
    {
     "name": "stdout",
     "output_type": "stream",
     "text": [
      "* Albania: Tirana, Shkodër, Durrës, Vlorë, Elbasan, Korçë\n",
      "* Greece: Komotini, Kavala, Athina, Peiraias, Peristeri, Acharnes, Patra, Kozani, Kerkyra, Ioannina, Thessaloniki, Iraklio, Chania, Ermoupoli, Rhodes, Tripoli, Lamia, Chalkida, Larissa, Volos, Mytilini, Karyes\n",
      "* Macedonia: Skopje, Kumanovo\n",
      "* Serbia: Beograd, Novi Sad, Niš\n",
      "* Montenegro: Podgorica\n",
      "* Kosovo: Prishtine\n",
      "* Andorra: Andorra la Vella\n"
     ]
    }
   ],
   "source": [
    "# print names of all countries and their cities\n",
    "for element in document_tree.iterfind('country'):\n",
    "    print '* ' + element.find('name').text + ':',\n",
    "    capitals_string = ''\n",
    "    for subelement in element.getiterator('city'):\n",
    "        capitals_string += subelement.find('name').text + ', '\n",
    "    print capitals_string[:-2]"
   ]
  },
  {
   "cell_type": "markdown",
   "metadata": {},
   "source": [
    "****\n",
    "## XML exercise\n",
    "\n",
    "Using data in 'data/mondial_database.xml', the examples above, and refering to https://docs.python.org/2.7/library/xml.etree.elementtree.html, find\n",
    "\n",
    "1. 10 countries with the lowest infant mortality rates\n",
    "2. 10 cities with the largest population\n",
    "3. 10 ethnic groups with the largest overall populations (sum of best/latest estimates over all countries)\n",
    "4. name and country of a) longest river, b) largest lake and c) airport at highest elevation"
   ]
  },
  {
   "cell_type": "code",
   "execution_count": 60,
   "metadata": {
    "collapsed": false
   },
   "outputs": [],
   "source": [
    "# type(document_tree)\n",
    "\n",
    "# countries = document_tree.findall('country')\n",
    "# # help(countries[0].find('infant_mortality'))\n",
    "# for country in countries:\n",
    "#     print country.find('name').text\n",
    "#     print (float(country.find('infant_mortality').text) if country.find('infant_mortality') is not None else 100.0)"
   ]
  },
  {
   "cell_type": "code",
   "execution_count": 67,
   "metadata": {
    "collapsed": false
   },
   "outputs": [
    {
     "name": "stdout",
     "output_type": "stream",
     "text": [
      "Monaco : 1.81\n",
      "Japan : 2.13\n",
      "Norway : 2.48\n",
      "Bermuda : 2.48\n",
      "Singapore : 2.53\n",
      "Sweden : 2.6\n",
      "Czech Republic : 2.63\n",
      "Hong Kong : 2.73\n",
      "Macao : 3.13\n",
      "Iceland : 3.15\n"
     ]
    }
   ],
   "source": [
    "# 1. 10 countries with the lowest infant mortality rates\n",
    "\n",
    "document_tree = ET.parse( './data/mondial_database.xml' )\n",
    "\n",
    "def getImmortalityAscendingkey(countryElem):\n",
    "    return float(countryElem.find('infant_mortality').text) if countryElem.find('infant_mortality') is not None else 100.0\n",
    "\n",
    "def sortCountriesByImmortality(root):\n",
    "    root[:] = sorted(root, key=lambda country:getImmortalityAscendingkey(country))\n",
    "\n",
    "root = document_tree.getroot()\n",
    "sortCountriesByImmortality(root)\n",
    "\n",
    "countries = root.findall('country')\n",
    "# help(countries[0].find('infant_mortality'))\n",
    "for country in countries[:10]:\n",
    "    print country.find('name').text, ':', float(country.find('infant_mortality').text)\n"
   ]
  },
  {
   "cell_type": "code",
   "execution_count": 81,
   "metadata": {
    "collapsed": false
   },
   "outputs": [
    {
     "name": "stdout",
     "output_type": "stream",
     "text": [
      "Seoul : 10229262\n",
      "Hong Kong : 7055071\n",
      "Al Qahirah : 6053000\n",
      "Bangkok : 5876000\n",
      "Ho Chi Minh : 3924435\n",
      "Busan : 3813814\n",
      "New Taipei : 3722082\n",
      "Hanoi : 3056146\n",
      "Al Iskandariyah : 2917000\n",
      "Taipei : 2626138\n"
     ]
    }
   ],
   "source": [
    "# 2. 10 cities with the largest population\n",
    "\n",
    "def getPopulationByDescending(cityElem):\n",
    "    return int(cityElem.find('population').text) if cityElem.find('population') is not None else 0\n",
    "\n",
    "cities = root.findall('country/city')\n",
    "# help(cities.sort)\n",
    "cities.sort(key=lambda city: getPopulationByDescending(city), reverse=True)\n",
    "\n",
    "# help(countries[0].find('infant_mortality'))\n",
    "for city in cities[:10]:\n",
    "    print city.find('name').text, ':', int(city.find('population').text if city.find('population') is not None else 0)\n"
   ]
  },
  {
   "cell_type": "code",
   "execution_count": 20,
   "metadata": {
    "collapsed": false
   },
   "outputs": [
    {
     "data": {
      "text/plain": [
       "['Han Chinese',\n",
       " 'Indo-Aryan',\n",
       " 'European',\n",
       " 'African',\n",
       " 'Dravidian',\n",
       " 'Mestizo',\n",
       " 'Bengali',\n",
       " 'Russian',\n",
       " 'Japanese',\n",
       " 'Malay']"
      ]
     },
     "execution_count": 20,
     "metadata": {},
     "output_type": "execute_result"
    }
   ],
   "source": [
    "# 3. 10 ethnic groups with the largest overall populations (sum of best/latest estimates over all countries)\n",
    "document_tree = ET.parse( './data/mondial_database.xml' )\n",
    "root = document_tree.getroot()\n",
    "\n",
    "def getPopulationByDescendingYear(population):\n",
    "    return int(population.get('year'))\n",
    "\n",
    "countries = root.findall('country')\n",
    "\n",
    "ethnicGroupPopulationDict={}\n",
    "\n",
    "for country in countries:\n",
    "    \n",
    "    populations = country.findall('population')\n",
    "    populations.sort(key=lambda population: getPopulationByDescendingYear(population), reverse=True)\n",
    "    # Use the latest available population as the current estimate     \n",
    "    countryPopulation = int(populations[0].text)\n",
    "    \n",
    "#     print country.find('name').text, ':', ':', populations[0].text\n",
    "    ethnicGroups = country.findall('ethnicgroup')\n",
    "    for ethnicGroup in ethnicGroups:\n",
    "        ethnicGroupPopulationInCountry = float(ethnicGroup.get('percentage')) * (countryPopulation/100)\n",
    "#         print ethnicGroup.text, ':', ethnicGroup.get('percentage'), ':', ethnicGroupPopulationInCountry\n",
    "        if ethnicGroup.text in ethnicGroupPopulationDict:\n",
    "            ethnicGroupPopulationDict[ethnicGroup.text].append(ethnicGroupPopulationInCountry)\n",
    "        else:\n",
    "            ethnicGroupPopulationDict[ethnicGroup.text] = [ethnicGroupPopulationInCountry]\n",
    "\n",
    "ethnicGroupPopulationDict\n",
    "\n",
    "overallEthnicGroupPopulationDict = {}\n",
    "\n",
    "for key,lis in ethnicGroupPopulationDict.items():\n",
    "    overallEthnicGroupPopulationDict[key] = sum(lis)\n",
    "\n",
    "overallEthnicGroupPopulationDict\n",
    "sorted(overallEthnicGroupPopulationDict, key=overallEthnicGroupPopulationDict.get, reverse=True)[:10]\n"
   ]
  },
  {
   "cell_type": "code",
   "execution_count": 29,
   "metadata": {
    "collapsed": false
   },
   "outputs": [
    {
     "data": {
      "text/plain": [
       "'CO BR PE'"
      ]
     },
     "execution_count": 29,
     "metadata": {},
     "output_type": "execute_result"
    }
   ],
   "source": [
    "# 4. name and country of a) longest river\n",
    "def getRiverLength(river):\n",
    "    return float(river.find('length').text) if river.find('length') is not None else 0.0\n",
    "rivers = root.findall('river')\n",
    "rivers.sort(key=lambda river: getRiverLength(river), reverse=True)\n",
    "rivers[0].get('country')"
   ]
  },
  {
   "cell_type": "code",
   "execution_count": 32,
   "metadata": {
    "collapsed": false
   },
   "outputs": [
    {
     "data": {
      "text/plain": [
       "'R AZ KAZ IR TM'"
      ]
     },
     "execution_count": 32,
     "metadata": {},
     "output_type": "execute_result"
    }
   ],
   "source": [
    "# 4. name and country of  b) largest lake\n",
    "def getLakeArea(lake):\n",
    "    return float(lake.find('area').text) if lake.find('area') is not None else 0.0\n",
    "lakes = root.findall('lake')\n",
    "lakes.sort(key=lambda river: getLakeArea(river), reverse=True)\n",
    "lakes[0].get('country')\n",
    "\n"
   ]
  },
  {
   "cell_type": "code",
   "execution_count": null,
   "metadata": {
    "collapsed": true
   },
   "outputs": [],
   "source": []
  },
  {
   "cell_type": "code",
   "execution_count": 37,
   "metadata": {
    "collapsed": false
   },
   "outputs": [
    {
     "data": {
      "text/plain": [
       "'BOL'"
      ]
     },
     "execution_count": 37,
     "metadata": {},
     "output_type": "execute_result"
    }
   ],
   "source": [
    "# 4. name and country of c) airport at highest elevation\n",
    "def getAirportElevation(airport):\n",
    "#     print airport.find('name').text\n",
    "    return float(airport.find('elevation').text) if airport.find('elevation').text is not None else 0.0\n",
    "\n",
    "airports = root.findall('airport')\n",
    "airports.sort(key=lambda airport: getAirportElevation(airport), reverse=True)\n",
    "airports[0].get('country')\n"
   ]
  },
  {
   "cell_type": "code",
   "execution_count": null,
   "metadata": {
    "collapsed": true
   },
   "outputs": [],
   "source": []
  }
 ],
 "metadata": {
  "kernelspec": {
   "display_name": "Python 2",
   "language": "python",
   "name": "python2"
  },
  "language_info": {
   "codemirror_mode": {
    "name": "ipython",
    "version": 2
   },
   "file_extension": ".py",
   "mimetype": "text/x-python",
   "name": "python",
   "nbconvert_exporter": "python",
   "pygments_lexer": "ipython2",
   "version": "2.7.13"
  }
 },
 "nbformat": 4,
 "nbformat_minor": 0
}
