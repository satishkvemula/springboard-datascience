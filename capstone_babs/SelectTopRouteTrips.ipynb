{
 "cells": [
  {
   "cell_type": "code",
   "execution_count": 5,
   "metadata": {
    "collapsed": false
   },
   "outputs": [
    {
     "name": "stdout",
     "output_type": "stream",
     "text": [
      "144015\n",
      "139668\n"
     ]
    }
   ],
   "source": [
    "%matplotlib inline\n",
    "import pandas as pd\n",
    "\n",
    "#tripsDataFile='201402_2000Trips.csv'\n",
    "# tripsDataFile='201402_trip_data.csv'\n",
    "tripsDataFile = './Extracted_DataSets/201402_Trips_WithBicycleDistanceSpeed_ByStartDate.csv'\n",
    "\n",
    "trips = pd.DataFrame.from_csv(tripsDataFile, index_col='Trip ID', encoding='utf-8')\n",
    "\n",
    "print(len(trips.index))\n",
    "trips = trips[(trips['Duration'] <= 5400) & (trips['Duration'] > 60)]\n",
    "\n",
    "print(len(trips.index))"
   ]
  },
  {
   "cell_type": "code",
   "execution_count": 12,
   "metadata": {
    "collapsed": false
   },
   "outputs": [
    {
     "name": "stdout",
     "output_type": "stream",
     "text": [
      "1580\n"
     ]
    }
   ],
   "source": [
    "groupedbyStartEnd = trips.groupby(['startStationId','endStationId'])\n",
    "startEndCounts=groupedbyStartEnd.size().reset_index(name='count').sort_values(by=\"count\", ascending=False, axis=0)\n",
    "\n",
    "print(len(startEndCounts.index))"
   ]
  },
  {
   "cell_type": "code",
   "execution_count": 13,
   "metadata": {
    "collapsed": false
   },
   "outputs": [
    {
     "name": "stdout",
     "output_type": "stream",
     "text": [
      "43886\n"
     ]
    }
   ],
   "source": [
    "\n",
    "topRoutesByCount = startEndCounts.head(n=100)\n",
    "\n",
    "keys = ['startStationId', 'endStationId']\n",
    "i1 = trips.set_index(keys).index\n",
    "i2 = topRoutesByCount.set_index(keys).index\n",
    "tripsForTopRoutes = trips[i1.isin(i2)]\n",
    "\n",
    "print(len(tripsForTopRoutes.index))"
   ]
  },
  {
   "cell_type": "code",
   "execution_count": 14,
   "metadata": {
    "collapsed": false
   },
   "outputs": [],
   "source": []
  },
  {
   "cell_type": "code",
   "execution_count": null,
   "metadata": {
    "collapsed": false
   },
   "outputs": [],
   "source": [
    "# In terms of cumulative distance, Embarcadero at Sansome-Embarcadero at Sansome at top..distance obviously will be 0.."
   ]
  },
  {
   "cell_type": "code",
   "execution_count": 16,
   "metadata": {
    "collapsed": false
   },
   "outputs": [],
   "source": [
    "tripsForTopRoutes = tripsForTopRoutes[['Duration', 'Start Date', 'startStationId', 'endStationId', 'distance']]\n"
   ]
  },
  {
   "cell_type": "code",
   "execution_count": 17,
   "metadata": {
    "collapsed": false
   },
   "outputs": [],
   "source": [
    "tripsForTopRoutes.to_csv('./Extracted_DataSets/2014_TripsOfTop100Routes.csv')"
   ]
  },
  {
   "cell_type": "code",
   "execution_count": null,
   "metadata": {
    "collapsed": false
   },
   "outputs": [],
   "source": []
  },
  {
   "cell_type": "code",
   "execution_count": null,
   "metadata": {
    "collapsed": false
   },
   "outputs": [],
   "source": []
  },
  {
   "cell_type": "code",
   "execution_count": null,
   "metadata": {
    "collapsed": false
   },
   "outputs": [],
   "source": []
  },
  {
   "cell_type": "code",
   "execution_count": null,
   "metadata": {
    "collapsed": true
   },
   "outputs": [],
   "source": [
    "\n"
   ]
  },
  {
   "cell_type": "code",
   "execution_count": null,
   "metadata": {
    "collapsed": true
   },
   "outputs": [],
   "source": []
  },
  {
   "cell_type": "code",
   "execution_count": null,
   "metadata": {
    "collapsed": true
   },
   "outputs": [],
   "source": []
  },
  {
   "cell_type": "code",
   "execution_count": null,
   "metadata": {
    "collapsed": true
   },
   "outputs": [],
   "source": []
  },
  {
   "cell_type": "code",
   "execution_count": null,
   "metadata": {
    "collapsed": true
   },
   "outputs": [],
   "source": []
  },
  {
   "cell_type": "code",
   "execution_count": null,
   "metadata": {
    "collapsed": true
   },
   "outputs": [],
   "source": []
  }
 ],
 "metadata": {
  "kernelspec": {
   "display_name": "Python 2",
   "language": "python",
   "name": "python2"
  },
  "language_info": {
   "codemirror_mode": {
    "name": "ipython",
    "version": 2
   },
   "file_extension": ".py",
   "mimetype": "text/x-python",
   "name": "python",
   "nbconvert_exporter": "python",
   "pygments_lexer": "ipython2",
   "version": "2.7.13"
  }
 },
 "nbformat": 4,
 "nbformat_minor": 2
}
