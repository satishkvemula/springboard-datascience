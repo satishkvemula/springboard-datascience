{
 "cells": [
  {
   "cell_type": "code",
   "execution_count": 14,
   "metadata": {
    "collapsed": false
   },
   "outputs": [],
   "source": [
    "import csv\n",
    "sourceFile = '201402_2000Trips.csv'\n",
    "tripDurationDataFile = 'Extracted_DataSets/201402_TripDurationData.csv'\n",
    "with open(sourceFile,\"r\") as source:\n",
    "    rdr= csv.reader( source )\n",
    "    with open(tripDurationDataFile,\"w\") as tripDurationData:\n",
    "        wtr= csv.writer( tripDurationData )\n",
    "        for r in rdr:\n",
    "            wtr.writerow( (r [0], r[1], r[2] ) )"
   ]
  },
  {
   "cell_type": "code",
   "execution_count": 15,
   "metadata": {
    "collapsed": false
   },
   "outputs": [],
   "source": [
    "import datetime\n",
    "import calendar\n",
    "tripTimeDurationDataFile = 'Extracted_DataSets/201402_TripTimeDurationData.csv'\n",
    "with open(sourceFile,\"r\") as source:\n",
    "    rdr= csv.reader( source )\n",
    "    r = next(rdr)\n",
    "    with open(tripTimeDurationDataFile,\"w\") as tripDurationData:\n",
    "        wtr= csv.writer( tripDurationData )\n",
    "        wtr.writerow( (r [0], r[1], r[2], r[5], 'Day') )\n",
    "        for r in rdr:\n",
    "            # Sample start time '8/29/13 14:13'\n",
    "            startDate = datetime.datetime.strptime(r[2], '%m/%d/%Y %H:%M').date()\n",
    "            wtr.writerow( (r [0], r[1], r[2], r[5], startDate.weekday()) )\n",
    "        "
   ]
  },
  {
   "cell_type": "code",
   "execution_count": 16,
   "metadata": {
    "collapsed": false
   },
   "outputs": [],
   "source": [
    "\n",
    "stationFile = '201402_station_data.csv'\n",
    "with open(stationFile,\"r\") as source:\n",
    "    rdr= csv.reader( source )\n",
    "    stationsById={}\n",
    "    stationsByName={}\n",
    "    next(rdr)\n",
    "    for r in rdr:\n",
    "        stationInfo={'id':r[0],'name':r[1],'lat':r[2],'long':r[3],'dockCount':r[4]}\n",
    "        stationsById[r[0]] = stationInfo\n",
    "        stationsByName[r[1]] = stationInfo"
   ]
  },
  {
   "cell_type": "code",
   "execution_count": 18,
   "metadata": {
    "collapsed": false
   },
   "outputs": [],
   "source": [
    "import datetime\n",
    "import calendar\n",
    "stationsTripDataFile = 'Extracted_DataSets/201402_StationsTripData.csv'\n",
    "with open(sourceFile,\"r\") as source:\n",
    "    rdr= csv.reader( source )\n",
    "    r = next(rdr)\n",
    "    with open(stationsTripDataFile,\"w\") as stationsTripData:\n",
    "        wtr= csv.writer( stationsTripData )\n",
    "        wtr.writerow( (r [0], r[1], r[2], r[5], 'Start Station Id', 'End Station Id', 'Day') )\n",
    "        for r in rdr:\n",
    "            # Sample start time '8/29/13 14:13'\n",
    "            startDate = datetime.datetime.strptime(r[2], '%m/%d/%Y %H:%M').date()\n",
    "            startStationId = stationsByName[r[3]]['id']\n",
    "            endStationId = stationsByName[r[6]]['id']\n",
    "            wtr.writerow( (r [0], r[1], r[2], r[5], startStationId, endStationId, startDate.weekday()) )\n"
   ]
  },
  {
   "cell_type": "raw",
   "metadata": {},
   "source": []
  },
  {
   "cell_type": "code",
   "execution_count": 38,
   "metadata": {
    "collapsed": false
   },
   "outputs": [
    {
     "data": {
      "image/png": "[encoded data removed]",
      "text/plain": [
       "<matplotlib.figure.Figure at 0x11121e860>"
      ]
     },
     "metadata": {},
     "output_type": "display_data"
    }
   ],
   "source": [
    "import pandas as pd\n",
    "import numpy as np\n",
    "import matplotlib.pyplot as plt\n",
    "%matplotlib inline\n",
    "\n",
    "df = pd.read_csv(tripDurationDataFile, index_col='Trip ID')\n",
    "df  = df.sort_values(by=\"Start Date\", ascending=True, axis=0)\n",
    "df.to_csv(tripDurationDataFile)\n",
    "df\n",
    "\n",
    "s = df.ix[:,0]\n",
    "cleanedS = s[lambda x :x < 10000]\n",
    "\n",
    "type(cleanedS)\n",
    "cleanedS.plot.line()\n",
    "\n",
    "import matplotlib.pyplot as plt\n",
    "plt.scatter(cleanedS.index, cleanedS)\n",
    "plt.show()"
   ]
  },
  {
   "cell_type": "code",
   "execution_count": 36,
   "metadata": {
    "collapsed": false
   },
   "outputs": [],
   "source": [
    "df = pd.read_csv(tripTimeDurationDataFile, index_col='Trip ID')\n",
    "df  = df.sort_values(by=\"Start Date\", ascending=True, axis=0)\n",
    "df.to_csv(tripTimeDurationDataFile)"
   ]
  },
  {
   "cell_type": "code",
   "execution_count": 37,
   "metadata": {
    "collapsed": true
   },
   "outputs": [],
   "source": [
    "df = pd.read_csv(stationsTripDataFile, index_col='Trip ID')\n",
    "df  = df.sort_values(by=\"Start Date\", ascending=True, axis=0)\n",
    "df.to_csv(stationsTripDataFile)"
   ]
  },
  {
   "cell_type": "code",
   "execution_count": null,
   "metadata": {
    "collapsed": false
   },
   "outputs": [],
   "source": []
  },
  {
   "cell_type": "code",
   "execution_count": null,
   "metadata": {
    "collapsed": false
   },
   "outputs": [],
   "source": []
  },
  {
   "cell_type": "code",
   "execution_count": 30,
   "metadata": {
    "collapsed": false
   },
   "outputs": [],
   "source": []
  },
  {
   "cell_type": "code",
   "execution_count": 8,
   "metadata": {
    "collapsed": true
   },
   "outputs": [],
   "source": []
  },
  {
   "cell_type": "code",
   "execution_count": 9,
   "metadata": {
    "collapsed": true
   },
   "outputs": [],
   "source": []
  },
  {
   "cell_type": "code",
   "execution_count": null,
   "metadata": {
    "collapsed": false
   },
   "outputs": [],
   "source": [
    "\n"
   ]
  },
  {
   "cell_type": "code",
   "execution_count": null,
   "metadata": {
    "collapsed": true
   },
   "outputs": [],
   "source": []
  }
 ],
 "metadata": {
  "kernelspec": {
   "display_name": "Python 3",
   "language": "python",
   "name": "python3"
  },
  "language_info": {
   "codemirror_mode": {
    "name": "ipython",
    "version": 3
   },
   "file_extension": ".py",
   "mimetype": "text/x-python",
   "name": "python",
   "nbconvert_exporter": "python",
   "pygments_lexer": "ipython3",
   "version": "3.6.0"
  }
 },
 "nbformat": 4,
 "nbformat_minor": 2
}
