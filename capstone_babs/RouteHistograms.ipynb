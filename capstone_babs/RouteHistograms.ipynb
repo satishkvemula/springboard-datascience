{
 "cells": [
  {
   "cell_type": "code",
   "execution_count": 3,
   "metadata": {
    "collapsed": false
   },
   "outputs": [],
   "source": [
    "%matplotlib inline\n",
    "import pandas as pd\n",
    "\n",
    "#tripsDataFile='201402_2000Trips.csv'\n",
    "# tripsDataFile='201402_trip_data.csv'\n",
    "tripsDataFile = '201402_Trips_WithBicycleDistanceSpeed.csv'\n",
    "\n",
    "trips = pd.DataFrame.from_csv(tripsDataFile, index_col='Trip ID', encoding='utf-8')\n",
    "trips = trips[(trips['Duration'] <= 5400) & (trips['Duration'] > 60)]\n",
    "\n",
    "# groupedbyStartEnd = trips.groupby(['Start Station','End Station'])\n",
    "# groupedbyStartEnd.sort_values(by='count', ascending=0)\n",
    "# groupedbyStartEnd\n",
    "\n",
    "\n",
    "# startEndDurationAgg.sort_values(by='Duration', ascending=False)\n"
   ]
  },
  {
   "cell_type": "code",
   "execution_count": 9,
   "metadata": {
    "collapsed": false
   },
   "outputs": [],
   "source": [
    "\n",
    "startEndDuration = trips.loc[:,['Start Station','End Station', 'Duration']]\n",
    "\n",
    "routeCount = startEndDuration.groupby(['Start Station','End Station']).count().sort_values(by='Duration', ascending=False)\n",
    "# help(routeCount)\n"
   ]
  },
  {
   "cell_type": "code",
   "execution_count": 29,
   "metadata": {
    "collapsed": false
   },
   "outputs": [],
   "source": [
    "routeCount.head(n=50)\n",
    "top30Routes = routeCount.index.values[:30]\n",
    "# help(top30Routes)\n",
    "top30Routes"
   ]
  },
  {
   "cell_type": "code",
   "execution_count": 39,
   "metadata": {
    "collapsed": false
   },
   "outputs": [
    {
     "ename": "ValueError",
     "evalue": "The truth value of a Series is ambiguous. Use a.empty, a.bool(), a.item(), a.any() or a.all().",
     "output_type": "error",
     "traceback": [
      "\u001b[0;31m\u001b[0m",
      "\u001b[0;31mValueError\u001b[0mTraceback (most recent call last)",
      "\u001b[0;32m<ipython-input-39-9e1df4e01d64>\u001b[0m in \u001b[0;36m<module>\u001b[0;34m()\u001b[0m\n\u001b[1;32m      9\u001b[0m \u001b[1;31m# trips[(trips[\"Start Station\"], trips['End Station']).isin(top30Routes)]\u001b[0m\u001b[1;33m\u001b[0m\u001b[1;33m\u001b[0m\u001b[0m\n\u001b[1;32m     10\u001b[0m \u001b[1;31m# isRouteInTop30('Townsend at 7th', 'San Francisco Caltrain (Townsend at 4th)')\u001b[0m\u001b[1;33m\u001b[0m\u001b[1;33m\u001b[0m\u001b[0m\n\u001b[0;32m---> 11\u001b[0;31m \u001b[0mtop30RouteTrips\u001b[0m \u001b[1;33m=\u001b[0m \u001b[0mtrips\u001b[0m\u001b[1;33m[\u001b[0m\u001b[0mtrips\u001b[0m\u001b[1;33m[\u001b[0m\u001b[0misRouteInTop30\u001b[0m\u001b[1;33m(\u001b[0m\u001b[0mtrips\u001b[0m\u001b[1;33m[\u001b[0m\u001b[1;34m'Start Station'\u001b[0m\u001b[1;33m]\u001b[0m\u001b[1;33m,\u001b[0m \u001b[0mtrips\u001b[0m\u001b[1;33m[\u001b[0m\u001b[1;34m'End Station'\u001b[0m\u001b[1;33m]\u001b[0m\u001b[1;33m)\u001b[0m\u001b[1;33m]\u001b[0m\u001b[1;33m]\u001b[0m\u001b[1;33m\u001b[0m\u001b[0m\n\u001b[0m",
      "\u001b[0;32m<ipython-input-39-9e1df4e01d64>\u001b[0m in \u001b[0;36misRouteInTop30\u001b[0;34m(inStart, inEnd)\u001b[0m\n\u001b[1;32m      1\u001b[0m \u001b[1;32mdef\u001b[0m \u001b[0misRouteInTop30\u001b[0m\u001b[1;33m(\u001b[0m\u001b[0minStart\u001b[0m\u001b[1;33m,\u001b[0m \u001b[0minEnd\u001b[0m\u001b[1;33m)\u001b[0m\u001b[1;33m:\u001b[0m\u001b[1;33m\u001b[0m\u001b[0m\n\u001b[1;32m      2\u001b[0m     \u001b[1;32mfor\u001b[0m \u001b[0mstart\u001b[0m\u001b[1;33m,\u001b[0m \u001b[0mend\u001b[0m \u001b[1;32min\u001b[0m \u001b[0mtop30Routes\u001b[0m\u001b[1;33m:\u001b[0m\u001b[1;33m\u001b[0m\u001b[0m\n\u001b[0;32m----> 3\u001b[0;31m         \u001b[1;32mif\u001b[0m \u001b[1;33m(\u001b[0m\u001b[1;33m(\u001b[0m\u001b[0mstart\u001b[0m \u001b[1;33m==\u001b[0m \u001b[0minStart\u001b[0m\u001b[1;33m)\u001b[0m \u001b[1;33m&\u001b[0m \u001b[1;33m(\u001b[0m\u001b[0mend\u001b[0m \u001b[1;33m==\u001b[0m \u001b[0minEnd\u001b[0m\u001b[1;33m)\u001b[0m\u001b[1;33m)\u001b[0m\u001b[1;33m:\u001b[0m\u001b[1;33m\u001b[0m\u001b[0m\n\u001b[0m\u001b[1;32m      4\u001b[0m             \u001b[1;32mreturn\u001b[0m \u001b[0mTrue\u001b[0m\u001b[1;33m\u001b[0m\u001b[0m\n\u001b[1;32m      5\u001b[0m \u001b[1;31m#     if [route[0], route[1]] in top30Routes: # Note str\u001b[0m\u001b[1;33m\u001b[0m\u001b[1;33m\u001b[0m\u001b[0m\n",
      "\u001b[0;32mC:\\ProgramData\\Anaconda2\\lib\\site-packages\\pandas\\core\\generic.py\u001b[0m in \u001b[0;36m__nonzero__\u001b[0;34m(self)\u001b[0m\n\u001b[1;32m    915\u001b[0m         raise ValueError(\"The truth value of a {0} is ambiguous. \"\n\u001b[1;32m    916\u001b[0m                          \u001b[1;34m\"Use a.empty, a.bool(), a.item(), a.any() or a.all().\"\u001b[0m\u001b[1;33m\u001b[0m\u001b[0m\n\u001b[0;32m--> 917\u001b[0;31m                          .format(self.__class__.__name__))\n\u001b[0m\u001b[1;32m    918\u001b[0m \u001b[1;33m\u001b[0m\u001b[0m\n\u001b[1;32m    919\u001b[0m     \u001b[0m__bool__\u001b[0m \u001b[1;33m=\u001b[0m \u001b[0m__nonzero__\u001b[0m\u001b[1;33m\u001b[0m\u001b[0m\n",
      "\u001b[0;31mValueError\u001b[0m: The truth value of a Series is ambiguous. Use a.empty, a.bool(), a.item(), a.any() or a.all()."
     ]
    }
   ],
   "source": [
    "def isRouteInTop30(inStart, inEnd):\n",
    "    for start, end in top30Routes:\n",
    "        if ((start == inStart) & (end == inEnd)):\n",
    "            return True\n",
    "    return False\n",
    "\n",
    "def areRoutesInTop30(startStations, endStations):\n",
    "    size = startStations.size\n",
    "    for i in 1..siz\n",
    "        \n",
    "# def isRouteInTop30(startStations, endStations):\n",
    "#     for start, end in top30Routes:\n",
    "#         if ((start == inStart) & (end == inEnd)):\n",
    "#             return True\n",
    "#     return False\n",
    "\n",
    "# trips[(trips[\"Start Station\"], trips['End Station']).isin(top30Routes)]\n",
    "# isRouteInTop30('Townsend at 7th', 'San Francisco Caltrain (Townsend at 4th)')\n",
    "top30RouteTrips = trips[trips[isRouteInTop30(trips['Start Station'], trips['End Station'])]]"
   ]
  },
  {
   "cell_type": "code",
   "execution_count": null,
   "metadata": {
    "collapsed": true
   },
   "outputs": [],
   "source": []
  }
 ],
 "metadata": {
  "kernelspec": {
   "display_name": "Python 2",
   "language": "python",
   "name": "python2"
  },
  "language_info": {
   "codemirror_mode": {
    "name": "ipython",
    "version": 2
   },
   "file_extension": ".py",
   "mimetype": "text/x-python",
   "name": "python",
   "nbconvert_exporter": "python",
   "pygments_lexer": "ipython2",
   "version": "2.7.13"
  }
 },
 "nbformat": 4,
 "nbformat_minor": 2
}
