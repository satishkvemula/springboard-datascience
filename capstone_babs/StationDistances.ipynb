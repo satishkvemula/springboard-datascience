{
 "cells": [
  {
   "cell_type": "code",
   "execution_count": 1,
   "metadata": {
    "collapsed": false
   },
   "outputs": [],
   "source": [
    "\n",
    "import pandas as pd\n",
    "import googlemaps\n",
    "import datetime\n",
    "from datetime import timedelta\n",
    "\n",
    "gmaps = googlemaps.Client(key='A`IzaSyC08BfStY-4KCNCe9rJS438VSvB5BC-wag')\n",
    "\n",
    "#tripsDataFile='201402_2000Trips.csv'\n",
    "stationsDataFile='201402_station_data.csv'\n",
    "\n",
    "stations = pd.DataFrame.from_csv(stationsDataFile, index_col='station_id', encoding='utf-8')\n",
    "stations.describe()\n",
    "SanJoseStations = stations[stations.landmark=='San Jose']\n",
    "SanFranciscoStations = stations[stations.landmark=='San Francisco']\n",
    "RedwoodCityStations= stations[stations.landmark=='Redwood City']\n",
    "MountainViewStations= stations[stations.landmark=='Mountain View']\n",
    "PaloAltoStations= stations[stations.landmark=='Palo Alto']\n",
    "type(PaloAltoStations)\n",
    "# stations.loc(2)\n",
    "stationLocations = {}\n",
    "distanceDict={}\n",
    "\n",
    "for landmark in stations.landmark.unique():\n",
    "    landmarkStations = stations[stations.landmark == landmark]\n",
    "    landmarkStations\n",
    "    landmarkStationIds = landmarkStations.index.get_values()\n",
    "    for originStationId in landmarkStationIds:\n",
    "        originStationLocation = {'lat': stations['lat'][originStationId], 'lng':stations['long'][originStationId]}\n",
    "        for destinationStationId in landmarkStationIds:\n",
    "            destinationStationLocation = {'lat': stations['lat'][destinationStationId], 'lng':stations['long'][destinationStationId]}\n",
    "            commute= gmaps.directions(originStationLocation, destinationStationLocation, \n",
    "                        mode=\"bicycling\",\n",
    "                          departure_time=datetime.datetime.now()  )\n",
    "            distanceDict[(originStationId, destinationStationId)] = commute[0]['legs'][0]['distance']['value']\n"
   ]
  },
  {
   "cell_type": "code",
   "execution_count": 2,
   "metadata": {
    "collapsed": false
   },
   "outputs": [],
   "source": [
    "\n",
    "stationDict={}\n",
    "for index, row in stations.iterrows():\n",
    "        stationDict[row['name']] = index\n",
    "        \n",
    "# tripsDataFile='201402_2000Trips.csv'\n",
    "# tripsDataWithDistanceFile='201402_2000Trips_WithDistance.csv'\n",
    "\n",
    "tripsDataFile='201402_Trips_WithDistance.csv'\n",
    "tripsDataWithDistanceFile='201402_Trips_WithBicycleDistance1.csv'\n",
    "\n",
    "# 201402_trip_data.csv\n",
    "\n",
    "trips = pd.DataFrame.from_csv(tripsDataFile, index_col='Trip ID', encoding='utf-8')\n",
    "\n",
    "\n",
    "# trips['startStationId'] = trips['Start Station']\n",
    "# trips.replace({\"startStationId\": stationDict})\n",
    "# trips['endStationId'] = trips['End Station']\n",
    "# trips.replace({\"endStationId\": stationDict})\n",
    "\n",
    "trips['bicycledistance'] = trips.apply(lambda row: distanceDict[(row['startStationId'], row['endStationId'])] if (row['startStationId'], row['endStationId']) in distanceDict \n",
    "                 else None               , axis=1)\n",
    "\n",
    "\n",
    "trips.to_csv(tripsDataWithDistanceFile)"
   ]
  },
  {
   "cell_type": "code",
   "execution_count": null,
   "metadata": {
    "collapsed": false
   },
   "outputs": [],
   "source": []
  },
  {
   "cell_type": "code",
   "execution_count": null,
   "metadata": {
    "collapsed": true
   },
   "outputs": [],
   "source": []
  },
  {
   "cell_type": "code",
   "execution_count": null,
   "metadata": {
    "collapsed": true
   },
   "outputs": [],
   "source": []
  },
  {
   "cell_type": "code",
   "execution_count": null,
   "metadata": {
    "collapsed": true
   },
   "outputs": [],
   "source": []
  },
  {
   "cell_type": "code",
   "execution_count": null,
   "metadata": {
    "collapsed": true
   },
   "outputs": [],
   "source": []
  }
 ],
 "metadata": {
  "kernelspec": {
   "display_name": "Python 2",
   "language": "python",
   "name": "python2"
  },
  "language_info": {
   "codemirror_mode": {
    "name": "ipython",
    "version": 2
   },
   "file_extension": ".py",
   "mimetype": "text/x-python",
   "name": "python",
   "nbconvert_exporter": "python",
   "pygments_lexer": "ipython2",
   "version": "2.7.13"
  }
 },
 "nbformat": 4,
 "nbformat_minor": 2
}
