{
 "cells": [
  {
   "cell_type": "code",
   "execution_count": 39,
   "metadata": {
    "collapsed": false
   },
   "outputs": [],
   "source": [
    "import pandas as pd\n",
    "import gmplot\n",
    "\n",
    "gmapTimeline = pd.read_csv('./data/2014_SF_GmapTimeline.csv', dtype = {'lat': str, 'lng': str})\n",
    "\n",
    "# help(sampleTripMilestones)\n",
    "\n",
    "SFStationLats=37.783871,37.795001,37.79728,37.794231,37.795425,37.788975,37.799953,37.789625,37.795392,37.791464,37.787152,37.789756,37.792251,37.781752,37.77865,37.781332,37.80477,37.780526,37.785299,37.786978,37.782259,37.771058,37.774814,37.776619,37.784878,37.776377,37.776617,37.788446,37.780356,37.798522,37.794139,37.7913,37.786305,37.789625,37.798541\n",
    "SFStationsLngs=-122.408433,-122.39997,-122.398436,-122.402923,-122.404767,-122.403452,-122.398525,-122.390264,-122.394203,-122.391034,-122.388013,-122.394643,-122.397086,-122.405127,-122.418235,-122.418603,-122.403234,-122.390288,-122.396236,-122.398108,-122.392738,-122.402717,-122.418954,-122.417385,-122.401014,-122.39607,-122.39526,-122.408499,-122.412919,-122.407245,-122.394434,-122.399051,-122.404966,-122.400811,-122.400862\n",
    "    "
   ]
  },
  {
   "cell_type": "code",
   "execution_count": null,
   "metadata": {
    "collapsed": false
   },
   "outputs": [],
   "source": []
  },
  {
   "cell_type": "code",
   "execution_count": 44,
   "metadata": {
    "collapsed": false
   },
   "outputs": [],
   "source": [
    "gmap = gmplot.GoogleMapPlotter(37.785848,-122.401505,14)\n",
    "# help(gmap.scatter)\n",
    "for index, row in gmapTimeline.iterrows():\n",
    "#     print index, row['time'], row['lat'], row['lng']\n",
    "    \n",
    "    lats = [float(x) for x in row['lat'].split(\",\")]\n",
    "    lngs = [float(x) for x in row['lng'].split(\",\")]\n",
    "\n",
    "    pathlat = tuple(lats)\n",
    "    pathlon = tuple(lngs)\n",
    "\n",
    "#     print type(pathlat), type(pathlon), type(pathlat[0]), type(pathlon[0])\n",
    "#     print type(SFStationLats), type(SFStationsLngs), type(SFStationLats[0]), type(SFStationsLngs[0])\n",
    "    \n",
    "    \n",
    "    gmap = gmplot.GoogleMapPlotter(37.785848,-122.401505,14)\n",
    "\n",
    "    \n",
    "    gmap.scatter(pathlat, pathlon, '#FF0000', size=25, marker=False)\n",
    "    gmap.scatter(SFStationLats, SFStationsLngs, '#0000FF', size=14, marker=False)\n",
    "    filename = row['time'].replace(\" \", \"_\")\n",
    "    filename = filename.replace(\"/\", \"-\")\n",
    "    filename = filename.replace(\":\", \"-\")\n",
    "    filename = './tripGmapSnapShots/' + filename + '.html'\n",
    "    gmap.draw(filename)"
   ]
  },
  {
   "cell_type": "code",
   "execution_count": 10,
   "metadata": {
    "collapsed": false
   },
   "outputs": [
    {
     "data": {
      "text/plain": [
       "<pandas.core.groupby.DataFrameGroupBy object at 0x116ab1cd0>"
      ]
     },
     "execution_count": 10,
     "metadata": {},
     "output_type": "execute_result"
    }
   ],
   "source": []
  },
  {
   "cell_type": "code",
   "execution_count": null,
   "metadata": {
    "collapsed": true
   },
   "outputs": [],
   "source": []
  }
 ],
 "metadata": {
  "kernelspec": {
   "display_name": "Python 2",
   "language": "python",
   "name": "python2"
  },
  "language_info": {
   "codemirror_mode": {
    "name": "ipython",
    "version": 2
   },
   "file_extension": ".py",
   "mimetype": "text/x-python",
   "name": "python",
   "nbconvert_exporter": "python",
   "pygments_lexer": "ipython2",
   "version": "2.7.13"
  }
 },
 "nbformat": 4,
 "nbformat_minor": 2
}
