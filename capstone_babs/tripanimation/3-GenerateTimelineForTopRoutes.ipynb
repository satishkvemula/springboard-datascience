{
 "cells": [
  {
   "cell_type": "code",
   "execution_count": 67,
   "metadata": {
    "collapsed": false
   },
   "outputs": [
    {
     "data": {
      "text/plain": [
       "29"
      ]
     },
     "execution_count": 67,
     "metadata": {},
     "output_type": "execute_result"
    }
   ],
   "source": [
    "import pandas as pd\n",
    "sampleTripMilestones = pd.DataFrame.from_csv('./data/2014_SF_Top_TripMileStones.csv')\n",
    "sampleTripMilestones\n",
    "# help(sampleTripMilestones)\n",
    "x = sampleTripMilestones.reset_index()\n",
    "routeDict={}\n",
    "for index, row in x.iterrows():\n",
    "    routeInfo={}\n",
    "    routeInfo['totalDistance'] = row['totalDistance']\n",
    "    routeInfo['milestoneCount'] = row['milestoneCount']\n",
    "    routeInfo['mileStoneLats'] = row['mileStoneLats']\n",
    "    routeInfo['mileStoneLngs'] = row['mileStoneLngs']\n",
    "    \n",
    "    routeDict[(row['startStationId'], row['endStationId'])] = routeInfo\n",
    "\n",
    "len(routeDict)\n"
   ]
  },
  {
   "cell_type": "code",
   "execution_count": 70,
   "metadata": {
    "collapsed": false
   },
   "outputs": [],
   "source": [
    "import datetime\n",
    "import csv\n",
    "import ast\n",
    "\n",
    "def getTripTimeline(row):\n",
    "    tripTimelineList=[]\n",
    "\n",
    "    routeMileStoneDict=routeDict[(row['startStationId'], row['endStationId'])]\n",
    "    milestoneCount =routeMileStoneDict['milestoneCount']\n",
    "    routeDict[(row['startStationId'], row['endStationId'])]\n",
    "\n",
    "    lats=ast.literal_eval(routeMileStoneDict['mileStoneLats'])\n",
    "    lngs=ast.literal_eval(routeMileStoneDict['mileStoneLngs'])\n",
    "    times=ast.literal_eval(row['mileStoneTimes'])\n",
    "\n",
    "    curMileStoneIndex = 0\n",
    "    while (curMileStoneIndex < milestoneCount):\n",
    "        currentTimeLineEntry = {} \n",
    "        currentTimeLineEntry['time']= times[curMileStoneIndex]\n",
    "        currentTimeLineEntry['lat']= lats[curMileStoneIndex]\n",
    "        currentTimeLineEntry['lng']= lngs[curMileStoneIndex]\n",
    "    \n",
    "        tripTimelineList.append(currentTimeLineEntry)\n",
    "        curMileStoneIndex = curMileStoneIndex + 1\n",
    "    return tripTimelineList\n",
    "\n"
   ]
  },
  {
   "cell_type": "code",
   "execution_count": 73,
   "metadata": {
    "collapsed": false
   },
   "outputs": [],
   "source": [
    "import datetime\n",
    "def getFilledInTimeline(tripTimelineList):\n",
    "    filledInTimelineList=[]\n",
    "    \n",
    "    \n",
    "    prevTime=''\n",
    "    prevLat=''\n",
    "    preLng=''\n",
    "    for i,currentTimeLineEntry in enumerate(tripTimelineList):\n",
    "        currentTime = datetime.datetime.strptime(currentTimeLineEntry['time'], \"%m/%d/%y %H:%M:%S\")\n",
    "        if (i > 0):\n",
    "            timedifference=(currentTime - prevTime).seconds\n",
    "            missingStepCount=(timedifference/10 -1)\n",
    "            \n",
    "            curMissingStep=1;\n",
    "            while (curMissingStep <= missingStepCount ):\n",
    "                missingTimeLineEntry = {} \n",
    "                missingTime = prevTime +  datetime.timedelta(seconds=(curMissingStep *10))\n",
    "                missingTimeLineEntry['time'] = missingTime.strftime(\"%m/%d/%y %H:%M:%S\")\n",
    "\n",
    "                startMilestoneLat = float(prevLat)\n",
    "                startMilestoneLng = float(preLng)\n",
    "\n",
    "                endMilestoneLat = float(currentTimeLineEntry['lat'])\n",
    "                endMilestoneLng = float(currentTimeLineEntry['lng'])\n",
    "\n",
    "                incrementalLat = ((endMilestoneLat - startMilestoneLat)*curMissingStep)/(missingStepCount+1)\n",
    "                missingTimeLineEntry['lat'] = str(startMilestoneLat + incrementalLat)\n",
    "\n",
    "                incrementalLng = ((endMilestoneLng - startMilestoneLng)*curMissingStep)/(missingStepCount+1)\n",
    "                missingTimeLineEntry['lng'] = str(startMilestoneLng + incrementalLng)\n",
    "\n",
    "                filledInTimelineList.append(missingTimeLineEntry)\n",
    "                curMissingStep = curMissingStep + 1\n",
    "        prevTime=currentTime\n",
    "        prevLat=currentTimeLineEntry['lat']\n",
    "        preLng=currentTimeLineEntry['lng']\n",
    "            \n",
    "            \n",
    "        filledInTimelineList.append(currentTimeLineEntry)\n",
    "    return filledInTimelineList\n"
   ]
  },
  {
   "cell_type": "code",
   "execution_count": 74,
   "metadata": {
    "collapsed": false
   },
   "outputs": [],
   "source": [
    "\n",
    "topRouteMileStoneTimes= pd.DataFrame.from_csv('./data/2014_SF_TripsOfTop30Routes_Aug2013_Milestones.csv')\n",
    "topRouteMileStoneTimes\n",
    "\n",
    "\n",
    "# print routeDict[(69, 39)]['milestoneCount']\n",
    "\n",
    "toCSV=[]\n",
    "for index, row in topRouteMileStoneTimes.iterrows():\n",
    "    tripTimeline = getTripTimeline(row)\n",
    "    filledInTheTimeline=getFilledInTimeline(tripTimeline)\n",
    "    toCSV.extend(filledInTheTimeline)\n"
   ]
  },
  {
   "cell_type": "code",
   "execution_count": 75,
   "metadata": {
    "collapsed": true
   },
   "outputs": [],
   "source": [
    "\n",
    "# toCSV\n",
    "\n",
    "keys=[\n",
    " 'time',\n",
    " 'lat',\n",
    " 'lng']\n",
    "with open('./data/2014_SF_Aug_TopTimeline.csv', 'wb') as output_file:\n",
    "    dict_writer = csv.DictWriter(output_file, keys,delimiter=',')\n",
    "    dict_writer.writeheader()\n",
    "    dict_writer.writerows(toCSV)"
   ]
  },
  {
   "cell_type": "code",
   "execution_count": null,
   "metadata": {
    "collapsed": true
   },
   "outputs": [],
   "source": []
  }
 ],
 "metadata": {
  "kernelspec": {
   "display_name": "Python 2",
   "language": "python",
   "name": "python2"
  },
  "language_info": {
   "codemirror_mode": {
    "name": "ipython",
    "version": 2
   },
   "file_extension": ".py",
   "mimetype": "text/x-python",
   "name": "python",
   "nbconvert_exporter": "python",
   "pygments_lexer": "ipython2",
   "version": "2.7.13"
  }
 },
 "nbformat": 4,
 "nbformat_minor": 2
}
