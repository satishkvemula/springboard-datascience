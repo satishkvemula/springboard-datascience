{
 "cells": [
  {
   "cell_type": "code",
   "execution_count": 1,
   "metadata": {
    "collapsed": false
   },
   "outputs": [],
   "source": [
    "import pandas as pd\n",
    "\n",
    "# data=pd.DataFrame.from_csv('./data/SortedSampleTimeline.csv', dtype = {'lat': str})\n",
    "data=pd.read_csv('./data/SampleTimeline_Filled.csv', dtype = {'lat': str, 'lng': str})\n",
    "preparedGmapTimeline = data.groupby(['time']).agg(lambda x: ','.join(x))\n",
    "\n",
    "preparedGmapTimeline.to_csv('./data/2014_SF_GmapTimeline.csv')\n",
    "# data.dtypes\n",
    "# data\n"
   ]
  },
  {
   "cell_type": "code",
   "execution_count": 16,
   "metadata": {
    "collapsed": false
   },
   "outputs": [],
   "source": []
  },
  {
   "cell_type": "code",
   "execution_count": null,
   "metadata": {
    "collapsed": false
   },
   "outputs": [],
   "source": []
  },
  {
   "cell_type": "code",
   "execution_count": null,
   "metadata": {
    "collapsed": true
   },
   "outputs": [],
   "source": []
  }
 ],
 "metadata": {
  "kernelspec": {
   "display_name": "Python 2",
   "language": "python",
   "name": "python2"
  },
  "language_info": {
   "codemirror_mode": {
    "name": "ipython",
    "version": 2
   },
   "file_extension": ".py",
   "mimetype": "text/x-python",
   "name": "python",
   "nbconvert_exporter": "python",
   "pygments_lexer": "ipython2",
   "version": "2.7.13"
  }
 },
 "nbformat": 4,
 "nbformat_minor": 2
}
