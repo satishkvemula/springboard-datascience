{
 "cells": [
  {
   "cell_type": "code",
   "execution_count": 1,
   "metadata": {
    "collapsed": true
   },
   "outputs": [],
   "source": [
    "import pandas as pd"
   ]
  },
  {
   "cell_type": "code",
   "execution_count": 88,
   "metadata": {
    "collapsed": false
   },
   "outputs": [
    {
     "data": {
      "text/plain": [
       "{(69,\n",
       "  39): {'mileStoneLats': \"[37.7710077, '37.7713123245', '37.771616949', '37.7719215735', '37.772226198', '37.7725308225', '37.772835447', '37.7731400715', '37.773444696', '37.7737493206', '37.7740539451', '37.7743585696', '37.7746631941', '37.7749678186', '37.7752724431', '37.7755770676', '37.7758816921', '37.7761863166', '37.7764909411', '37.7767955656', '37.7771001901', '37.7774048146', '37.7777094391', '37.7780140636', '37.7783186881', '37.7786233126', '37.7789279372', '37.7792325617', '37.7795371862', '37.7798418107', '37.7801464352', '37.7804510597', '37.7807556842', '37.7810603087', '37.7813649332', '37.7816695577', '37.7821975823', '37.7825976645', '37.7829977468', '37.783397829', '37.7837979113', '37.7841979935', '37.7845980758', '37.784998158', '37.7853982403', '37.7857983226', '37.7861984048', '37.7865984871', '37.7869985693', '37.7873986516', '37.7877987338', '37.7881988161', '37.7885988984', '37.7889989806', '37.7893990629', '37.7897991451', '37.7901992274', '37.7905993096', '37.7909993919', '37.7913994741', '37.7917995564', '37.7921996387', '37.7925997209', '37.7929998032', '37.7933998854', '37.7937999677', '37.7942000499', '37.7946001322', '37.7950002145', '37.7954002967', 37.7954163]\", 'mileStoneLngs': \"[-122.4026538, '-122.403063679', '-122.403473557', '-122.403883436', '-122.404293314', '-122.404703193', '-122.405113072', '-122.40552295', '-122.405932829', '-122.406342707', '-122.406752586', '-122.407162465', '-122.407572343', '-122.407982222', '-122.4083921', '-122.408801979', '-122.409211858', '-122.409621736', '-122.410031615', '-122.410441493', '-122.410851372', '-122.411261251', '-122.411671129', '-122.412081008', '-122.412490886', '-122.412900765', '-122.413310644', '-122.413720522', '-122.414130401', '-122.414540279', '-122.414950158', '-122.415360037', '-122.415769915', '-122.416179794', '-122.416589672', '-122.416999551', '-122.387962739', '-122.387789578', '-122.387616417', '-122.387443256', '-122.387270095', '-122.387096934', '-122.386923773', '-122.386750612', '-122.386577451', '-122.38640429', '-122.386231129', '-122.386057968', '-122.385884807', '-122.385711646', '-122.385538485', '-122.385365324', '-122.385192163', '-122.385019002', '-122.384845841', '-122.38467268', '-122.384499519', '-122.384326358', '-122.384153197', '-122.383980036', '-122.383806875', '-122.383633714', '-122.383460553', '-122.383287392', '-122.383114231', '-122.38294107', '-122.382767909', '-122.382594748', '-122.382421587', '-122.382248426', -122.3940303]\", 'milestoneCount': 71, 'totalDistance': 3473}}"
      ]
     },
     "execution_count": 88,
     "metadata": {},
     "output_type": "execute_result"
    }
   ],
   "source": [
    "# sampleTripMilestones = pd.DataFrame.from_csv('./data/SampleTripMileStone.csv', index_col=['startStationId','endStationId'])\n",
    "\n",
    "sampleTripMilestones = pd.DataFrame.from_csv('./data/SampleTripMileStone.csv')\n",
    "sampleTripMilestones\n",
    "# help(sampleTripMilestones)\n",
    "x = sampleTripMilestones.reset_index()\n",
    "x[(x['startStationId'] == 69) & (x['endStationId'] == 39)]\n",
    "routeDict={}\n",
    "for index, row in x.iterrows():\n",
    "    routeInfo={}\n",
    "    routeInfo['totalDistance'] = row['totalDistance']\n",
    "    routeInfo['milestoneCount'] = row['milestoneCount']\n",
    "    routeInfo['mileStoneLats'] = row['mileStoneLats']\n",
    "    routeInfo['mileStoneLngs'] = row['mileStoneLngs']\n",
    "    \n",
    "    routeDict[(row['startStationId'], row['endStationId'])] = routeInfo\n",
    "routeDict\n"
   ]
  },
  {
   "cell_type": "code",
   "execution_count": 120,
   "metadata": {
    "collapsed": false
   },
   "outputs": [
    {
     "name": "stdout",
     "output_type": "stream",
     "text": [
      "8/29/13 10:17 71 1965\n"
     ]
    },
    {
     "ename": "KeyError",
     "evalue": "'Trip ID'",
     "output_type": "error",
     "traceback": [
      "\u001b[0;31m---------------------------------------------------------------------------\u001b[0m",
      "\u001b[0;31mKeyError\u001b[0m                                  Traceback (most recent call last)",
      "\u001b[0;32m<ipython-input-120-d02afb893a4b>\u001b[0m in \u001b[0;36m<module>\u001b[0;34m()\u001b[0m\n\u001b[1;32m     45\u001b[0m \u001b[0mtoCSV\u001b[0m\u001b[0;34m=\u001b[0m\u001b[0;34m[\u001b[0m\u001b[0;34m]\u001b[0m\u001b[0;34m\u001b[0m\u001b[0m\n\u001b[1;32m     46\u001b[0m \u001b[0;32mfor\u001b[0m \u001b[0mindex\u001b[0m\u001b[0;34m,\u001b[0m \u001b[0mrow\u001b[0m \u001b[0;32min\u001b[0m \u001b[0mtripsOfTopRoutes\u001b[0m\u001b[0;34m.\u001b[0m\u001b[0miterrows\u001b[0m\u001b[0;34m(\u001b[0m\u001b[0;34m)\u001b[0m\u001b[0;34m:\u001b[0m\u001b[0;34m\u001b[0m\u001b[0m\n\u001b[0;32m---> 47\u001b[0;31m     \u001b[0mtripMilestoneTimesRow\u001b[0m \u001b[0;34m=\u001b[0m \u001b[0mgetTripMileStoneTimes\u001b[0m\u001b[0;34m(\u001b[0m\u001b[0mrow\u001b[0m\u001b[0;34m)\u001b[0m\u001b[0;34m\u001b[0m\u001b[0m\n\u001b[0m\u001b[1;32m     48\u001b[0m     \u001b[0mtoCSV\u001b[0m\u001b[0;34m.\u001b[0m\u001b[0mappend\u001b[0m\u001b[0;34m(\u001b[0m\u001b[0mtripMilestoneTimesRow\u001b[0m\u001b[0;34m)\u001b[0m\u001b[0;34m\u001b[0m\u001b[0m\n\u001b[1;32m     49\u001b[0m \u001b[0;34m\u001b[0m\u001b[0m\n",
      "\u001b[0;32m<ipython-input-120-d02afb893a4b>\u001b[0m in \u001b[0;36mgetTripMileStoneTimes\u001b[0;34m(row)\u001b[0m\n\u001b[1;32m     25\u001b[0m     \u001b[0;32mprint\u001b[0m  \u001b[0mrow\u001b[0m\u001b[0;34m[\u001b[0m\u001b[0;34m'Start Date'\u001b[0m\u001b[0;34m]\u001b[0m\u001b[0;34m,\u001b[0m \u001b[0mmileStoneCount\u001b[0m\u001b[0;34m,\u001b[0m \u001b[0mrow\u001b[0m\u001b[0;34m[\u001b[0m\u001b[0;34m'Duration'\u001b[0m\u001b[0;34m]\u001b[0m\u001b[0;34m\u001b[0m\u001b[0m\n\u001b[1;32m     26\u001b[0m \u001b[0;34m\u001b[0m\u001b[0m\n\u001b[0;32m---> 27\u001b[0;31m     \u001b[0mtripMileStaoneTimesRow\u001b[0m\u001b[0;34m.\u001b[0m\u001b[0mtripId\u001b[0m \u001b[0;34m=\u001b[0m \u001b[0mrow\u001b[0m\u001b[0;34m[\u001b[0m\u001b[0;34m'Trip ID'\u001b[0m\u001b[0;34m]\u001b[0m\u001b[0;34m\u001b[0m\u001b[0m\n\u001b[0m\u001b[1;32m     28\u001b[0m     \u001b[0mtripMileStaoneTimesRow\u001b[0m\u001b[0;34m.\u001b[0m\u001b[0mstartTime\u001b[0m \u001b[0;34m=\u001b[0m \u001b[0mrow\u001b[0m\u001b[0;34m[\u001b[0m\u001b[0;34m'Start Date'\u001b[0m\u001b[0;34m]\u001b[0m\u001b[0;34m\u001b[0m\u001b[0m\n\u001b[1;32m     29\u001b[0m     \u001b[0mtripMileStaoneTimesRow\u001b[0m\u001b[0;34m.\u001b[0m\u001b[0mduration\u001b[0m \u001b[0;34m=\u001b[0m \u001b[0mrow\u001b[0m\u001b[0;34m[\u001b[0m\u001b[0;34m'Duration'\u001b[0m\u001b[0;34m]\u001b[0m\u001b[0;34m\u001b[0m\u001b[0m\n",
      "\u001b[0;32m/Users/p2723777/anaconda/lib/python2.7/site-packages/pandas/core/series.pyc\u001b[0m in \u001b[0;36m__getitem__\u001b[0;34m(self, key)\u001b[0m\n\u001b[1;32m    601\u001b[0m         \u001b[0mkey\u001b[0m \u001b[0;34m=\u001b[0m \u001b[0mcom\u001b[0m\u001b[0;34m.\u001b[0m\u001b[0m_apply_if_callable\u001b[0m\u001b[0;34m(\u001b[0m\u001b[0mkey\u001b[0m\u001b[0;34m,\u001b[0m \u001b[0mself\u001b[0m\u001b[0;34m)\u001b[0m\u001b[0;34m\u001b[0m\u001b[0m\n\u001b[1;32m    602\u001b[0m         \u001b[0;32mtry\u001b[0m\u001b[0;34m:\u001b[0m\u001b[0;34m\u001b[0m\u001b[0m\n\u001b[0;32m--> 603\u001b[0;31m             \u001b[0mresult\u001b[0m \u001b[0;34m=\u001b[0m \u001b[0mself\u001b[0m\u001b[0;34m.\u001b[0m\u001b[0mindex\u001b[0m\u001b[0;34m.\u001b[0m\u001b[0mget_value\u001b[0m\u001b[0;34m(\u001b[0m\u001b[0mself\u001b[0m\u001b[0;34m,\u001b[0m \u001b[0mkey\u001b[0m\u001b[0;34m)\u001b[0m\u001b[0;34m\u001b[0m\u001b[0m\n\u001b[0m\u001b[1;32m    604\u001b[0m \u001b[0;34m\u001b[0m\u001b[0m\n\u001b[1;32m    605\u001b[0m             \u001b[0;32mif\u001b[0m \u001b[0;32mnot\u001b[0m \u001b[0mis_scalar\u001b[0m\u001b[0;34m(\u001b[0m\u001b[0mresult\u001b[0m\u001b[0;34m)\u001b[0m\u001b[0;34m:\u001b[0m\u001b[0;34m\u001b[0m\u001b[0m\n",
      "\u001b[0;32m/Users/p2723777/anaconda/lib/python2.7/site-packages/pandas/indexes/base.pyc\u001b[0m in \u001b[0;36mget_value\u001b[0;34m(self, series, key)\u001b[0m\n\u001b[1;32m   2181\u001b[0m                     \u001b[0;32mraise\u001b[0m \u001b[0mInvalidIndexError\u001b[0m\u001b[0;34m(\u001b[0m\u001b[0mkey\u001b[0m\u001b[0;34m)\u001b[0m\u001b[0;34m\u001b[0m\u001b[0m\n\u001b[1;32m   2182\u001b[0m                 \u001b[0;32melse\u001b[0m\u001b[0;34m:\u001b[0m\u001b[0;34m\u001b[0m\u001b[0m\n\u001b[0;32m-> 2183\u001b[0;31m                     \u001b[0;32mraise\u001b[0m \u001b[0me1\u001b[0m\u001b[0;34m\u001b[0m\u001b[0m\n\u001b[0m\u001b[1;32m   2184\u001b[0m             \u001b[0;32mexcept\u001b[0m \u001b[0mException\u001b[0m\u001b[0;34m:\u001b[0m  \u001b[0;31m# pragma: no cover\u001b[0m\u001b[0;34m\u001b[0m\u001b[0m\n\u001b[1;32m   2185\u001b[0m                 \u001b[0;32mraise\u001b[0m \u001b[0me1\u001b[0m\u001b[0;34m\u001b[0m\u001b[0m\n",
      "\u001b[0;31mKeyError\u001b[0m: 'Trip ID'"
     ]
    }
   ],
   "source": [
    "import datetime\n",
    "import csv\n",
    "\n",
    "tripsOfTopRoutes = pd.DataFrame.from_csv('./data/2014_SF_TripsOfTop30Routes_Sample.csv')\n",
    "tripsOfTopRoutes\n",
    "\n",
    "\n",
    "def roundTimeToGivenSecondLapse(dt=None, roundTo=60):\n",
    "   \"\"\"Round a datetime object to any time laps in seconds\n",
    "   dt : datetime.datetime object, default now.\n",
    "   roundTo : Closest number of seconds to round to, default 1 minute.\n",
    "   Author: Thierry Husson 2012 - Use it as you want but don't blame me.\n",
    "   \"\"\"\n",
    "   if dt == None : dt = datetime.datetime.now()\n",
    "   seconds = (dt.replace(tzinfo=None) - dt.min).seconds\n",
    "   rounding = (seconds+roundTo/2) // roundTo * roundTo\n",
    "   return dt + datetime.timedelta(0,rounding-seconds,-dt.microsecond)\n",
    "\n",
    "# print routeDict[(69, 39)]['milestoneCount']\n",
    "\n",
    "def getTripMileStoneTimes(row):\n",
    "    tripMileStaoneTimesRow={}\n",
    "    mileStoneCount = routeDict[(row['startStationId'], row['endStationId'])]['milestoneCount']\n",
    "    mileStoneTimes= []\n",
    "    print  row['Start Date'], mileStoneCount, row['Duration']\n",
    "\n",
    "    tripMileStaoneTimesRow.tripId = row['Trip ID']\n",
    "    tripMileStaoneTimesRow.startTime = row['Start Date']\n",
    "    tripMileStaoneTimesRow.duration = row['Duration']\n",
    "    \n",
    "    curMileStoneIndex = 0\n",
    "    while (curMileStoneIndex < mileStoneCount):\n",
    "#         print row['Start Date'], (row['Duration'] * curMileStoneIndex)/mileStoneCount \n",
    "#         print row['Start Date'], (row['Duration'] * curMileStoneIndex)/mileStoneCount \n",
    "        currentMilestoneDuration= (row['Duration'] * curMileStoneIndex)/mileStoneCount \n",
    "        mileStoneTime = datetime.datetime.strptime(row['Start Date'], \"%m/%d/%y %H:%M\") + datetime.timedelta(seconds=currentMilestoneDuration)\n",
    "#         print roundTimeToGivenSecondLapse(mileStoneTime,10)\n",
    "        mileStoneTimes.append(roundTimeToGivenSecondLapse(mileStoneTime,10))\n",
    "        curMileStoneIndex = curMileStoneIndex + 1\n",
    "    print(mileStoneTimes)\n",
    "    tripMileStaoneTimesRow.mileStoneTimes = mileStoneTimes\n",
    "    return tripMileStaoneTimesRow\n",
    "\n",
    "\n",
    "toCSV=[]\n",
    "for index, row in tripsOfTopRoutes.iterrows():\n",
    "    tripMilestoneTimesRow = getTripMileStoneTimes(row)\n",
    "    toCSV.append(tripMilestoneTimesRow)\n",
    "\n",
    "# keys = milestoneRow.keys()\n",
    "keys=[\n",
    " 'tripId',\n",
    " 'startTime',\n",
    " 'duration',\n",
    " 'mileStoneTimes']\n",
    "with open('./data/SampleTripMilestoneTimes.csv', 'wb') as output_file:\n",
    "    dict_writer = csv.DictWriter(output_file, keys)\n",
    "    dict_writer.writeheader()\n",
    "    dict_writer.writerows(toCSV)\n"
   ]
  },
  {
   "cell_type": "code",
   "execution_count": null,
   "metadata": {
    "collapsed": false
   },
   "outputs": [],
   "source": []
  },
  {
   "cell_type": "code",
   "execution_count": null,
   "metadata": {
    "collapsed": false
   },
   "outputs": [],
   "source": []
  },
  {
   "cell_type": "code",
   "execution_count": null,
   "metadata": {
    "collapsed": true
   },
   "outputs": [],
   "source": []
  },
  {
   "cell_type": "code",
   "execution_count": null,
   "metadata": {
    "collapsed": false
   },
   "outputs": [],
   "source": []
  },
  {
   "cell_type": "code",
   "execution_count": null,
   "metadata": {
    "collapsed": true
   },
   "outputs": [],
   "source": []
  }
 ],
 "metadata": {
  "kernelspec": {
   "display_name": "Python 2",
   "language": "python",
   "name": "python2"
  },
  "language_info": {
   "codemirror_mode": {
    "name": "ipython",
    "version": 2
   },
   "file_extension": ".py",
   "mimetype": "text/x-python",
   "name": "python",
   "nbconvert_exporter": "python",
   "pygments_lexer": "ipython2",
   "version": "2.7.13"
  }
 },
 "nbformat": 4,
 "nbformat_minor": 2
}
