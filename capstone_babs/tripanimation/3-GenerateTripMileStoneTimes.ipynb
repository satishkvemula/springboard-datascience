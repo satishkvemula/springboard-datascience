{
 "cells": [
  {
   "cell_type": "code",
   "execution_count": 6,
   "metadata": {
    "collapsed": true
   },
   "outputs": [],
   "source": [
    "import pandas as pd"
   ]
  },
  {
   "cell_type": "code",
   "execution_count": 7,
   "metadata": {
    "collapsed": false
   },
   "outputs": [],
   "source": [
    "# sampleTripMilestones = pd.DataFrame.from_csv('./data/SampleTripMileStone.csv', index_col=['startStationId','endStationId'])\n",
    "\n",
    "sampleTripMilestones = pd.DataFrame.from_csv('./data/SampleTripMileStone.csv')\n",
    "sampleTripMilestones\n",
    "# help(sampleTripMilestones)\n",
    "x = sampleTripMilestones.reset_index()\n",
    "x[(x['startStationId'] == 69) & (x['endStationId'] == 39)]\n",
    "routeDict={}\n",
    "for index, row in x.iterrows():\n",
    "    routeInfo={}\n",
    "    routeInfo['totalDistance'] = row['totalDistance']\n",
    "    routeInfo['milestoneCount'] = row['milestoneCount']\n",
    "    routeInfo['mileStoneLats'] = row['mileStoneLats']\n",
    "    routeInfo['mileStoneLngs'] = row['mileStoneLngs']\n",
    "    \n",
    "    routeDict[(row['startStationId'], row['endStationId'])] = routeInfo\n",
    "\n"
   ]
  },
  {
   "cell_type": "code",
   "execution_count": 8,
   "metadata": {
    "collapsed": false
   },
   "outputs": [
    {
     "name": "stdout",
     "output_type": "stream",
     "text": [
      "8/29/13 10:17 71 1965\n",
      "['08/29/13 10:17:00', '08/29/13 10:17:30', '08/29/13 10:18:00', '08/29/13 10:18:20', '08/29/13 10:18:50', '08/29/13 10:19:20', '08/29/13 10:19:50', '08/29/13 10:20:10', '08/29/13 10:20:40', '08/29/13 10:21:10', '08/29/13 10:21:40', '08/29/13 10:22:00', '08/29/13 10:22:30', '08/29/13 10:23:00', '08/29/13 10:23:30', '08/29/13 10:24:00', '08/29/13 10:24:20', '08/29/13 10:24:50', '08/29/13 10:25:20', '08/29/13 10:25:50', '08/29/13 10:26:10', '08/29/13 10:26:40', '08/29/13 10:27:10', '08/29/13 10:27:40', '08/29/13 10:28:00', '08/29/13 10:28:30', '08/29/13 10:29:00', '08/29/13 10:29:30', '08/29/13 10:29:50', '08/29/13 10:30:20', '08/29/13 10:30:50', '08/29/13 10:31:20', '08/29/13 10:31:50', '08/29/13 10:32:10', '08/29/13 10:32:40', '08/29/13 10:33:10', '08/29/13 10:33:40', '08/29/13 10:34:00', '08/29/13 10:34:30', '08/29/13 10:35:00', '08/29/13 10:35:30', '08/29/13 10:35:50', '08/29/13 10:36:20', '08/29/13 10:36:50', '08/29/13 10:37:20', '08/29/13 10:37:50', '08/29/13 10:38:10', '08/29/13 10:38:40', '08/29/13 10:39:10', '08/29/13 10:39:40', '08/29/13 10:40:00', '08/29/13 10:40:30', '08/29/13 10:41:00', '08/29/13 10:41:30', '08/29/13 10:41:50', '08/29/13 10:42:20', '08/29/13 10:42:50', '08/29/13 10:43:20', '08/29/13 10:43:50', '08/29/13 10:44:10', '08/29/13 10:44:40', '08/29/13 10:45:10', '08/29/13 10:45:40', '08/29/13 10:46:00', '08/29/13 10:46:30', '08/29/13 10:47:00', '08/29/13 10:47:30', '08/29/13 10:47:50', '08/29/13 10:48:20', '08/29/13 10:48:50', '08/29/13 10:49:20']\n",
      "8/29/13 10:17 71 980\n",
      "['08/29/13 10:17:00', '08/29/13 10:17:10', '08/29/13 10:17:30', '08/29/13 10:17:40', '08/29/13 10:18:00', '08/29/13 10:18:10', '08/29/13 10:18:20', '08/29/13 10:18:40', '08/29/13 10:18:50', '08/29/13 10:19:00', '08/29/13 10:19:20', '08/29/13 10:19:30', '08/29/13 10:19:50', '08/29/13 10:20:00', '08/29/13 10:20:10', '08/29/13 10:20:30', '08/29/13 10:20:40', '08/29/13 10:20:50', '08/29/13 10:21:10', '08/29/13 10:21:20', '08/29/13 10:21:40', '08/29/13 10:21:50', '08/29/13 10:22:00', '08/29/13 10:22:20', '08/29/13 10:22:30', '08/29/13 10:22:50', '08/29/13 10:23:00', '08/29/13 10:23:10', '08/29/13 10:23:30', '08/29/13 10:23:40', '08/29/13 10:23:50', '08/29/13 10:24:10', '08/29/13 10:24:20', '08/29/13 10:24:40', '08/29/13 10:24:50', '08/29/13 10:25:00', '08/29/13 10:25:20', '08/29/13 10:25:30', '08/29/13 10:25:40', '08/29/13 10:26:00', '08/29/13 10:26:10', '08/29/13 10:26:30', '08/29/13 10:26:40', '08/29/13 10:26:50', '08/29/13 10:27:10', '08/29/13 10:27:20', '08/29/13 10:27:30', '08/29/13 10:27:50', '08/29/13 10:28:00', '08/29/13 10:28:20', '08/29/13 10:28:30', '08/29/13 10:28:40', '08/29/13 10:29:00', '08/29/13 10:29:10', '08/29/13 10:29:30', '08/29/13 10:29:40', '08/29/13 10:29:50', '08/29/13 10:30:10', '08/29/13 10:30:20', '08/29/13 10:30:30', '08/29/13 10:30:50', '08/29/13 10:31:00', '08/29/13 10:31:20', '08/29/13 10:31:30', '08/29/13 10:31:40', '08/29/13 10:32:00', '08/29/13 10:32:10', '08/29/13 10:32:20', '08/29/13 10:32:40', '08/29/13 10:32:50', '08/29/13 10:33:10']\n",
      "8/29/13 12:37 71 2465\n",
      "['08/29/13 12:37:00', '08/29/13 12:37:30', '08/29/13 12:38:10', '08/29/13 12:38:40', '08/29/13 12:39:20', '08/29/13 12:39:50', '08/29/13 12:40:30', '08/29/13 12:41:00', '08/29/13 12:41:40', '08/29/13 12:42:10', '08/29/13 12:42:50', '08/29/13 12:43:20', '08/29/13 12:44:00', '08/29/13 12:44:30', '08/29/13 12:45:10', '08/29/13 12:45:40', '08/29/13 12:46:20', '08/29/13 12:46:50', '08/29/13 12:47:20', '08/29/13 12:48:00', '08/29/13 12:48:30', '08/29/13 12:49:10', '08/29/13 12:49:40', '08/29/13 12:50:20', '08/29/13 12:50:50', '08/29/13 12:51:30', '08/29/13 12:52:00', '08/29/13 12:52:40', '08/29/13 12:53:10', '08/29/13 12:53:50', '08/29/13 12:54:20', '08/29/13 12:55:00', '08/29/13 12:55:30', '08/29/13 12:56:10', '08/29/13 12:56:40', '08/29/13 12:57:20', '08/29/13 12:57:50', '08/29/13 12:58:20', '08/29/13 12:59:00', '08/29/13 12:59:30', '08/29/13 13:00:10', '08/29/13 13:00:40', '08/29/13 13:01:20', '08/29/13 13:01:50', '08/29/13 13:02:30', '08/29/13 13:03:00', '08/29/13 13:03:40', '08/29/13 13:04:10', '08/29/13 13:04:50', '08/29/13 13:05:20', '08/29/13 13:06:00', '08/29/13 13:06:30', '08/29/13 13:07:10', '08/29/13 13:07:40', '08/29/13 13:08:10', '08/29/13 13:08:50', '08/29/13 13:09:20', '08/29/13 13:10:00', '08/29/13 13:10:30', '08/29/13 13:11:10', '08/29/13 13:11:40', '08/29/13 13:12:20', '08/29/13 13:12:50', '08/29/13 13:13:30', '08/29/13 13:14:00', '08/29/13 13:14:40', '08/29/13 13:15:10', '08/29/13 13:15:50', '08/29/13 13:16:20', '08/29/13 13:17:00', '08/29/13 13:17:30']\n"
     ]
    }
   ],
   "source": [
    "import datetime\n",
    "import csv\n",
    "import ast\n",
    "\n",
    "def roundTimeToGivenSecondLapse(dt=None, roundTo=60):\n",
    "   \"\"\"Round a datetime object to any time laps in seconds\n",
    "   dt : datetime.datetime object, default now.\n",
    "   roundTo : Closest number of seconds to round to, default 1 minute.\n",
    "   Author: Thierry Husson 2012 - Use it as you want but don't blame me.\n",
    "   \"\"\"\n",
    "   if dt == None : dt = datetime.datetime.now()\n",
    "   seconds = (dt.replace(tzinfo=None) - dt.min).seconds\n",
    "   rounding = (seconds+roundTo/2) // roundTo * roundTo\n",
    "   return dt + datetime.timedelta(0,rounding-seconds,-dt.microsecond)\n",
    "\n",
    "\n",
    "\n",
    "def getTripMileStoneTimes(index,row):\n",
    "    tripMileStaoneTimesRow={}\n",
    "    mileStoneCount = routeDict[(row['startStationId'], row['endStationId'])]['milestoneCount']\n",
    "    mileStoneTimes= []\n",
    "    print  row['Start Date'], mileStoneCount, row['Duration']\n",
    "\n",
    "    tripMileStaoneTimesRow['tripID'] = index\n",
    "    tripMileStaoneTimesRow['startTime'] = row['Start Date']\n",
    "    tripMileStaoneTimesRow['duration'] = row['Duration']\n",
    "    tripMileStaoneTimesRow['startStationId'] = row['startStationId']\n",
    "    tripMileStaoneTimesRow['endStationId'] = row['endStationId']\n",
    "    \n",
    "    curMileStoneIndex = 0\n",
    "    while (curMileStoneIndex < mileStoneCount):\n",
    "#         print row['Start Date'], (row['Duration'] * curMileStoneIndex)/mileStoneCount \n",
    "#         print row['Start Date'], (row['Duration'] * curMileStoneIndex)/mileStoneCount \n",
    "        currentMilestoneDuration= (row['Duration'] * curMileStoneIndex)/mileStoneCount \n",
    "        mileStoneTime = datetime.datetime.strptime(row['Start Date'], \"%m/%d/%y %H:%M\") + datetime.timedelta(seconds=currentMilestoneDuration)\n",
    "#         print roundTimeToGivenSecondLapse(mileStoneTime,10)\n",
    "\n",
    "        currentMilestoneTime = roundTimeToGivenSecondLapse(mileStoneTime,10)\n",
    "        currentMilestoneTimeStr = currentMilestoneTime.strftime(\"%m/%d/%y %H:%M:%S\")\n",
    "        mileStoneTimes.append(currentMilestoneTimeStr)\n",
    "        curMileStoneIndex = curMileStoneIndex + 1\n",
    "    print(mileStoneTimes)\n",
    "    tripMileStaoneTimesRow['mileStoneTimes'] = mileStoneTimes\n",
    "    return tripMileStaoneTimesRow\n",
    "\n",
    "tripsOfTopRoutes = pd.DataFrame.from_csv('./data/2014_SF_TripsOfTop30Routes_Sample.csv')\n",
    "tripsOfTopRoutes\n",
    "\n",
    "\n",
    "# print routeDict[(69, 39)]['milestoneCount']\n",
    "\n",
    "\n",
    "\n",
    "toCSV=[]\n",
    "for index, row in tripsOfTopRoutes.iterrows():\n",
    "    tripMilestoneTimesRow = getTripMileStoneTimes(index,row)\n",
    "    toCSV.append(tripMilestoneTimesRow)\n",
    "\n",
    "# keys = milestoneRow.keys()\n",
    "keys=[\n",
    " 'tripID',\n",
    " 'startTime',\n",
    " 'duration',\n",
    " 'startStationId',\n",
    " 'endStationId',\n",
    " 'mileStoneTimes']\n",
    "with open('./data/SampleTripMilestoneTimes.csv', 'wb') as output_file:\n",
    "    dict_writer = csv.DictWriter(output_file, keys)\n",
    "    dict_writer.writeheader()\n",
    "    dict_writer.writerows(toCSV)\n"
   ]
  },
  {
   "cell_type": "code",
   "execution_count": null,
   "metadata": {
    "collapsed": false
   },
   "outputs": [],
   "source": []
  },
  {
   "cell_type": "code",
   "execution_count": null,
   "metadata": {
    "collapsed": false
   },
   "outputs": [],
   "source": []
  },
  {
   "cell_type": "code",
   "execution_count": null,
   "metadata": {
    "collapsed": true
   },
   "outputs": [],
   "source": []
  },
  {
   "cell_type": "code",
   "execution_count": null,
   "metadata": {
    "collapsed": false
   },
   "outputs": [],
   "source": []
  },
  {
   "cell_type": "code",
   "execution_count": null,
   "metadata": {
    "collapsed": true
   },
   "outputs": [],
   "source": []
  }
 ],
 "metadata": {
  "kernelspec": {
   "display_name": "Python 2",
   "language": "python",
   "name": "python2"
  },
  "language_info": {
   "codemirror_mode": {
    "name": "ipython",
    "version": 2
   },
   "file_extension": ".py",
   "mimetype": "text/x-python",
   "name": "python",
   "nbconvert_exporter": "python",
   "pygments_lexer": "ipython2",
   "version": "2.7.13"
  }
 },
 "nbformat": 4,
 "nbformat_minor": 2
}
