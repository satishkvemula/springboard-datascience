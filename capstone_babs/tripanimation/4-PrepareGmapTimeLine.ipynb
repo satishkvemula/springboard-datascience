{
 "cells": [
  {
   "cell_type": "code",
   "execution_count": 14,
   "metadata": {
    "collapsed": false
   },
   "outputs": [],
   "source": [
    "import pandas as pd\n",
    "\n",
    "# data=pd.DataFrame.from_csv('./data/SortedSampleTimeline.csv', dtype = {'lat': str})\n",
    "data=pd.read_csv('./data/SortedSampleTimeline.csv', dtype = {'lat': str, 'lng': str})\n",
    "\n",
    "# data.dtypes\n",
    "# data\n"
   ]
  },
  {
   "cell_type": "code",
   "execution_count": 16,
   "metadata": {
    "collapsed": false
   },
   "outputs": [],
   "source": [
    "preparedGmapTimeline = data.groupby(['time']).agg(lambda x: ','.join(x))\n",
    "\n",
    "preparedGmapTimeline.to_csv('./data/2014_SF_GmapTimeline.csv')"
   ]
  },
  {
   "cell_type": "code",
   "execution_count": 10,
   "metadata": {
    "collapsed": false
   },
   "outputs": [
    {
     "data": {
      "text/plain": [
       "<pandas.core.groupby.DataFrameGroupBy object at 0x116ab1cd0>"
      ]
     },
     "execution_count": 10,
     "metadata": {},
     "output_type": "execute_result"
    }
   ],
   "source": [
    "\n",
    "# data.groupby(['A','C'])['B'].apply(lambda x: ','.join(x.astype(str))).reset_index()\n",
    "\n",
    "# def f(x):\n",
    "#      return pd.Series(dict(lat = \"{%s}\" % ', '.join(x['lat']), \n",
    "#                         lng = \"{%s}\" % ', '.join(x['lng'])))\n",
    "# groupedByTime = data.groupby(['time'])\n",
    "# groupedByTime\n",
    "# .apply(f)\n",
    "# data.groupby(level=0).sum()"
   ]
  },
  {
   "cell_type": "code",
   "execution_count": null,
   "metadata": {
    "collapsed": true
   },
   "outputs": [],
   "source": []
  }
 ],
 "metadata": {
  "kernelspec": {
   "display_name": "Python 2",
   "language": "python",
   "name": "python2"
  },
  "language_info": {
   "codemirror_mode": {
    "name": "ipython",
    "version": 2
   },
   "file_extension": ".py",
   "mimetype": "text/x-python",
   "name": "python",
   "nbconvert_exporter": "python",
   "pygments_lexer": "ipython2",
   "version": "2.7.13"
  }
 },
 "nbformat": 4,
 "nbformat_minor": 2
}
