{
 "cells": [
  {
   "cell_type": "code",
   "execution_count": 1,
   "metadata": {
    "collapsed": true
   },
   "outputs": [],
   "source": [
    "import pandas as pd"
   ]
  },
  {
   "cell_type": "code",
   "execution_count": 133,
   "metadata": {
    "collapsed": false
   },
   "outputs": [],
   "source": [
    "# sampleTripMilestones = pd.DataFrame.from_csv('./data/SampleTripMileStone.csv', index_col=['startStationId','endStationId'])\n",
    "\n",
    "sampleTripMilestones = pd.DataFrame.from_csv('./data/SampleTripMileStone.csv')\n",
    "sampleTripMilestones\n",
    "# help(sampleTripMilestones)\n",
    "x = sampleTripMilestones.reset_index()\n",
    "x[(x['startStationId'] == 69) & (x['endStationId'] == 39)]\n",
    "routeDict={}\n",
    "for index, row in x.iterrows():\n",
    "    routeInfo={}\n",
    "    routeInfo['totalDistance'] = row['totalDistance']\n",
    "    routeInfo['milestoneCount'] = row['milestoneCount']\n",
    "    routeInfo['mileStoneLats'] = row['mileStoneLats']\n",
    "    routeInfo['mileStoneLngs'] = row['mileStoneLngs']\n",
    "    \n",
    "    routeDict[(row['startStationId'], row['endStationId'])] = routeInfo\n",
    "\n"
   ]
  },
  {
   "cell_type": "code",
   "execution_count": 134,
   "metadata": {
    "collapsed": false
   },
   "outputs": [
    {
     "name": "stdout",
     "output_type": "stream",
     "text": [
      "8/29/13 10:17 71 1965\n",
      "['08/29/13 10:17', '08/29/13 10:17', '08/29/13 10:18', '08/29/13 10:18', '08/29/13 10:18', '08/29/13 10:19', '08/29/13 10:19', '08/29/13 10:20', '08/29/13 10:20', '08/29/13 10:21', '08/29/13 10:21', '08/29/13 10:22', '08/29/13 10:22', '08/29/13 10:23', '08/29/13 10:23', '08/29/13 10:24', '08/29/13 10:24', '08/29/13 10:24', '08/29/13 10:25', '08/29/13 10:25', '08/29/13 10:26', '08/29/13 10:26', '08/29/13 10:27', '08/29/13 10:27', '08/29/13 10:28', '08/29/13 10:28', '08/29/13 10:29', '08/29/13 10:29', '08/29/13 10:29', '08/29/13 10:30', '08/29/13 10:30', '08/29/13 10:31', '08/29/13 10:31', '08/29/13 10:32', '08/29/13 10:32', '08/29/13 10:33', '08/29/13 10:33', '08/29/13 10:34', '08/29/13 10:34', '08/29/13 10:35', '08/29/13 10:35', '08/29/13 10:35', '08/29/13 10:36', '08/29/13 10:36', '08/29/13 10:37', '08/29/13 10:37', '08/29/13 10:38', '08/29/13 10:38', '08/29/13 10:39', '08/29/13 10:39', '08/29/13 10:40', '08/29/13 10:40', '08/29/13 10:41', '08/29/13 10:41', '08/29/13 10:41', '08/29/13 10:42', '08/29/13 10:42', '08/29/13 10:43', '08/29/13 10:43', '08/29/13 10:44', '08/29/13 10:44', '08/29/13 10:45', '08/29/13 10:45', '08/29/13 10:46', '08/29/13 10:46', '08/29/13 10:47', '08/29/13 10:47', '08/29/13 10:47', '08/29/13 10:48', '08/29/13 10:48', '08/29/13 10:49']\n",
      "8/29/13 10:17 71 980\n",
      "['08/29/13 10:17', '08/29/13 10:17', '08/29/13 10:17', '08/29/13 10:17', '08/29/13 10:18', '08/29/13 10:18', '08/29/13 10:18', '08/29/13 10:18', '08/29/13 10:18', '08/29/13 10:19', '08/29/13 10:19', '08/29/13 10:19', '08/29/13 10:19', '08/29/13 10:20', '08/29/13 10:20', '08/29/13 10:20', '08/29/13 10:20', '08/29/13 10:20', '08/29/13 10:21', '08/29/13 10:21', '08/29/13 10:21', '08/29/13 10:21', '08/29/13 10:22', '08/29/13 10:22', '08/29/13 10:22', '08/29/13 10:22', '08/29/13 10:23', '08/29/13 10:23', '08/29/13 10:23', '08/29/13 10:23', '08/29/13 10:23', '08/29/13 10:24', '08/29/13 10:24', '08/29/13 10:24', '08/29/13 10:24', '08/29/13 10:25', '08/29/13 10:25', '08/29/13 10:25', '08/29/13 10:25', '08/29/13 10:26', '08/29/13 10:26', '08/29/13 10:26', '08/29/13 10:26', '08/29/13 10:26', '08/29/13 10:27', '08/29/13 10:27', '08/29/13 10:27', '08/29/13 10:27', '08/29/13 10:28', '08/29/13 10:28', '08/29/13 10:28', '08/29/13 10:28', '08/29/13 10:29', '08/29/13 10:29', '08/29/13 10:29', '08/29/13 10:29', '08/29/13 10:29', '08/29/13 10:30', '08/29/13 10:30', '08/29/13 10:30', '08/29/13 10:30', '08/29/13 10:31', '08/29/13 10:31', '08/29/13 10:31', '08/29/13 10:31', '08/29/13 10:32', '08/29/13 10:32', '08/29/13 10:32', '08/29/13 10:32', '08/29/13 10:32', '08/29/13 10:33']\n",
      "8/29/13 12:37 71 2465\n",
      "['08/29/13 12:37', '08/29/13 12:37', '08/29/13 12:38', '08/29/13 12:38', '08/29/13 12:39', '08/29/13 12:39', '08/29/13 12:40', '08/29/13 12:41', '08/29/13 12:41', '08/29/13 12:42', '08/29/13 12:42', '08/29/13 12:43', '08/29/13 12:44', '08/29/13 12:44', '08/29/13 12:45', '08/29/13 12:45', '08/29/13 12:46', '08/29/13 12:46', '08/29/13 12:47', '08/29/13 12:48', '08/29/13 12:48', '08/29/13 12:49', '08/29/13 12:49', '08/29/13 12:50', '08/29/13 12:50', '08/29/13 12:51', '08/29/13 12:52', '08/29/13 12:52', '08/29/13 12:53', '08/29/13 12:53', '08/29/13 12:54', '08/29/13 12:55', '08/29/13 12:55', '08/29/13 12:56', '08/29/13 12:56', '08/29/13 12:57', '08/29/13 12:57', '08/29/13 12:58', '08/29/13 12:59', '08/29/13 12:59', '08/29/13 13:00', '08/29/13 13:00', '08/29/13 13:01', '08/29/13 13:01', '08/29/13 13:02', '08/29/13 13:03', '08/29/13 13:03', '08/29/13 13:04', '08/29/13 13:04', '08/29/13 13:05', '08/29/13 13:06', '08/29/13 13:06', '08/29/13 13:07', '08/29/13 13:07', '08/29/13 13:08', '08/29/13 13:08', '08/29/13 13:09', '08/29/13 13:10', '08/29/13 13:10', '08/29/13 13:11', '08/29/13 13:11', '08/29/13 13:12', '08/29/13 13:12', '08/29/13 13:13', '08/29/13 13:14', '08/29/13 13:14', '08/29/13 13:15', '08/29/13 13:15', '08/29/13 13:16', '08/29/13 13:17', '08/29/13 13:17']\n"
     ]
    }
   ],
   "source": [
    "import datetime\n",
    "import csv\n",
    "\n",
    "def roundTimeToGivenSecondLapse(dt=None, roundTo=60):\n",
    "   \"\"\"Round a datetime object to any time laps in seconds\n",
    "   dt : datetime.datetime object, default now.\n",
    "   roundTo : Closest number of seconds to round to, default 1 minute.\n",
    "   Author: Thierry Husson 2012 - Use it as you want but don't blame me.\n",
    "   \"\"\"\n",
    "   if dt == None : dt = datetime.datetime.now()\n",
    "   seconds = (dt.replace(tzinfo=None) - dt.min).seconds\n",
    "   rounding = (seconds+roundTo/2) // roundTo * roundTo\n",
    "   return dt + datetime.timedelta(0,rounding-seconds,-dt.microsecond)\n",
    "\n",
    "\n",
    "\n",
    "def getTripMileStoneTimes(index,row):\n",
    "    tripMileStaoneTimesRow={}\n",
    "    mileStoneCount = routeDict[(row['startStationId'], row['endStationId'])]['milestoneCount']\n",
    "    mileStoneTimes= []\n",
    "    print  row['Start Date'], mileStoneCount, row['Duration']\n",
    "\n",
    "    tripMileStaoneTimesRow['tripID'] = index\n",
    "    tripMileStaoneTimesRow['startTime'] = row['Start Date']\n",
    "    tripMileStaoneTimesRow['duration'] = row['Duration']\n",
    "    \n",
    "    curMileStoneIndex = 0\n",
    "    while (curMileStoneIndex < mileStoneCount):\n",
    "#         print row['Start Date'], (row['Duration'] * curMileStoneIndex)/mileStoneCount \n",
    "#         print row['Start Date'], (row['Duration'] * curMileStoneIndex)/mileStoneCount \n",
    "        currentMilestoneDuration= (row['Duration'] * curMileStoneIndex)/mileStoneCount \n",
    "        mileStoneTime = datetime.datetime.strptime(row['Start Date'], \"%m/%d/%y %H:%M\") + datetime.timedelta(seconds=currentMilestoneDuration)\n",
    "#         print roundTimeToGivenSecondLapse(mileStoneTime,10)\n",
    "\n",
    "        currentMilestoneTime = roundTimeToGivenSecondLapse(mileStoneTime,10)\n",
    "        currentMilestoneTimeStr = currentMilestoneTime.strftime(\"%m/%d/%y %H:%M\")\n",
    "        mileStoneTimes.append(currentMilestoneTimeStr)\n",
    "        curMileStoneIndex = curMileStoneIndex + 1\n",
    "    print(mileStoneTimes)\n",
    "    tripMileStaoneTimesRow['mileStoneTimes'] = mileStoneTimes\n",
    "    return tripMileStaoneTimesRow\n",
    "\n",
    "tripsOfTopRoutes = pd.DataFrame.from_csv('./data/2014_SF_TripsOfTop30Routes_Sample.csv')\n",
    "tripsOfTopRoutes\n",
    "\n",
    "\n",
    "# print routeDict[(69, 39)]['milestoneCount']\n",
    "\n",
    "\n",
    "\n",
    "toCSV=[]\n",
    "for index, row in tripsOfTopRoutes.iterrows():\n",
    "    tripMilestoneTimesRow = getTripMileStoneTimes(index,row)\n",
    "    toCSV.append(tripMilestoneTimesRow)\n",
    "\n",
    "# keys = milestoneRow.keys()\n",
    "keys=[\n",
    " 'tripID',\n",
    " 'startTime',\n",
    " 'duration',\n",
    " 'mileStoneTimes']\n",
    "with open('./data/SampleTripMilestoneTimes.csv', 'wb') as output_file:\n",
    "    dict_writer = csv.DictWriter(output_file, keys)\n",
    "    dict_writer.writeheader()\n",
    "    dict_writer.writerows(toCSV)\n"
   ]
  },
  {
   "cell_type": "code",
   "execution_count": null,
   "metadata": {
    "collapsed": false
   },
   "outputs": [],
   "source": []
  },
  {
   "cell_type": "code",
   "execution_count": null,
   "metadata": {
    "collapsed": false
   },
   "outputs": [],
   "source": []
  },
  {
   "cell_type": "code",
   "execution_count": null,
   "metadata": {
    "collapsed": true
   },
   "outputs": [],
   "source": []
  },
  {
   "cell_type": "code",
   "execution_count": null,
   "metadata": {
    "collapsed": false
   },
   "outputs": [],
   "source": []
  },
  {
   "cell_type": "code",
   "execution_count": null,
   "metadata": {
    "collapsed": true
   },
   "outputs": [],
   "source": []
  }
 ],
 "metadata": {
  "kernelspec": {
   "display_name": "Python 2",
   "language": "python",
   "name": "python2"
  },
  "language_info": {
   "codemirror_mode": {
    "name": "ipython",
    "version": 2
   },
   "file_extension": ".py",
   "mimetype": "text/x-python",
   "name": "python",
   "nbconvert_exporter": "python",
   "pygments_lexer": "ipython2",
   "version": "2.7.13"
  }
 },
 "nbformat": 4,
 "nbformat_minor": 2
}
