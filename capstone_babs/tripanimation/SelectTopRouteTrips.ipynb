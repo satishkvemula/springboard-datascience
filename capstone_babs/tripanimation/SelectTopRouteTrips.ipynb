{
 "cells": [
  {
   "cell_type": "code",
   "execution_count": 1,
   "metadata": {
    "collapsed": false
   },
   "outputs": [
    {
     "name": "stderr",
     "output_type": "stream",
     "text": [
      "/Users/p2723777/anaconda/lib/python2.7/site-packages/IPython/core/interactiveshell.py:2821: DtypeWarning: Columns (10) have mixed types. Specify dtype option on import or set low_memory=False.\n",
      "  if self.run_code(code, result):\n"
     ]
    },
    {
     "name": "stdout",
     "output_type": "stream",
     "text": [
      "144015\n",
      "139668\n"
     ]
    }
   ],
   "source": [
    "%matplotlib inline\n",
    "import pandas as pd\n",
    "\n",
    "tripsDataFile = './data/201402_Trips_WithBicycleDistanceSpeed_ByStartDate.csv'\n",
    "\n",
    "trips = pd.DataFrame.from_csv(tripsDataFile, index_col='Trip ID', encoding='utf-8')\n",
    "\n",
    "print(len(trips.index))\n",
    "trips = trips[(trips['Duration'] <= 5400) & (trips['Duration'] > 60)]\n",
    "\n",
    "print(len(trips.index))"
   ]
  },
  {
   "cell_type": "code",
   "execution_count": 6,
   "metadata": {
    "collapsed": false
   },
   "outputs": [
    {
     "name": "stdout",
     "output_type": "stream",
     "text": [
      "1187\n"
     ]
    }
   ],
   "source": [
    "#Limit to SF trips\n",
    "trips = trips[(trips['startStationId'] >= 39) & (trips['startStationId'] <= 77)]\n",
    "\n",
    "groupedbyStartEnd = trips.groupby(['startStationId','endStationId'])\n",
    "startEndCounts=groupedbyStartEnd.size().reset_index(name='count').sort_values(by=\"count\", ascending=False, axis=0)\n",
    "\n",
    "print(len(startEndCounts.index))"
   ]
  },
  {
   "cell_type": "code",
   "execution_count": 11,
   "metadata": {
    "collapsed": false
   },
   "outputs": [
    {
     "name": "stdout",
     "output_type": "stream",
     "text": [
      "20219\n"
     ]
    }
   ],
   "source": [
    "\n",
    "top30RoutesByCount = startEndCounts.head(n=30)\n",
    "top30RoutesByCount.to_csv('./data/2014_SF_Top30Routes.csv')\n",
    "\n",
    "keys = ['startStationId', 'endStationId']\n",
    "i1 = trips.set_index(keys).index\n",
    "i2 = top30RoutesByCount.set_index(keys).index\n",
    "tripsForTop30Routes = trips[i1.isin(i2)]\n",
    "\n",
    "print(len(tripsForTop30Routes.index))\n",
    "\n",
    "tripsForTop30Routes = tripsForTop30Routes[['Duration', 'Start Date', 'startStationId', 'endStationId', 'distance']]\n",
    "tripsForTop30Routes.to_csv('./data/2014_SF_TripsOfTop30Routes.csv')"
   ]
  },
  {
   "cell_type": "code",
   "execution_count": 14,
   "metadata": {
    "collapsed": false
   },
   "outputs": [],
   "source": []
  },
  {
   "cell_type": "code",
   "execution_count": null,
   "metadata": {
    "collapsed": false
   },
   "outputs": [],
   "source": [
    "# In terms of cumulative distance, Embarcadero at Sansome-Embarcadero at Sansome at top..distance obviously will be 0.."
   ]
  },
  {
   "cell_type": "code",
   "execution_count": 4,
   "metadata": {
    "collapsed": false
   },
   "outputs": [],
   "source": []
  },
  {
   "cell_type": "code",
   "execution_count": 5,
   "metadata": {
    "collapsed": false
   },
   "outputs": [],
   "source": []
  },
  {
   "cell_type": "code",
   "execution_count": null,
   "metadata": {
    "collapsed": false
   },
   "outputs": [],
   "source": []
  },
  {
   "cell_type": "code",
   "execution_count": null,
   "metadata": {
    "collapsed": false
   },
   "outputs": [],
   "source": []
  },
  {
   "cell_type": "code",
   "execution_count": null,
   "metadata": {
    "collapsed": false
   },
   "outputs": [],
   "source": []
  },
  {
   "cell_type": "code",
   "execution_count": null,
   "metadata": {
    "collapsed": true
   },
   "outputs": [],
   "source": [
    "\n"
   ]
  },
  {
   "cell_type": "code",
   "execution_count": null,
   "metadata": {
    "collapsed": true
   },
   "outputs": [],
   "source": []
  },
  {
   "cell_type": "code",
   "execution_count": null,
   "metadata": {
    "collapsed": true
   },
   "outputs": [],
   "source": []
  },
  {
   "cell_type": "code",
   "execution_count": null,
   "metadata": {
    "collapsed": true
   },
   "outputs": [],
   "source": []
  },
  {
   "cell_type": "code",
   "execution_count": null,
   "metadata": {
    "collapsed": true
   },
   "outputs": [],
   "source": []
  },
  {
   "cell_type": "code",
   "execution_count": null,
   "metadata": {
    "collapsed": true
   },
   "outputs": [],
   "source": []
  }
 ],
 "metadata": {
  "kernelspec": {
   "display_name": "Python 2",
   "language": "python",
   "name": "python2"
  },
  "language_info": {
   "codemirror_mode": {
    "name": "ipython",
    "version": 2
   },
   "file_extension": ".py",
   "mimetype": "text/x-python",
   "name": "python",
   "nbconvert_exporter": "python",
   "pygments_lexer": "ipython2",
   "version": "2.7.13"
  }
 },
 "nbformat": 4,
 "nbformat_minor": 2
}
