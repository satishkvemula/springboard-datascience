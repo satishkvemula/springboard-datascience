{
 "cells": [
  {
   "cell_type": "code",
   "execution_count": 14,
   "metadata": {
    "collapsed": true
   },
   "outputs": [],
   "source": [
    "import pandas as pd"
   ]
  },
  {
   "cell_type": "code",
   "execution_count": 15,
   "metadata": {
    "collapsed": false
   },
   "outputs": [
    {
     "data": {
      "text/plain": [
       "29"
      ]
     },
     "execution_count": 15,
     "metadata": {},
     "output_type": "execute_result"
    }
   ],
   "source": [
    "sampleTripMilestones = pd.DataFrame.from_csv('./data/2014_SF_Top_TripMileStones.csv')\n",
    "\n",
    "x = sampleTripMilestones.reset_index()\n",
    "routeDict={}\n",
    "for index, row in x.iterrows():\n",
    "    routeInfo={}\n",
    "    routeInfo['totalDistance'] = row['totalDistance']\n",
    "    routeInfo['milestoneCount'] = row['milestoneCount']\n",
    "    routeInfo['mileStoneLats'] = row['mileStoneLats']\n",
    "    routeInfo['mileStoneLngs'] = row['mileStoneLngs']\n",
    "    \n",
    "    routeDict[(row['startStationId'], row['endStationId'])] = routeInfo\n",
    "\n",
    "len(routeDict)"
   ]
  },
  {
   "cell_type": "code",
   "execution_count": 16,
   "metadata": {
    "collapsed": false
   },
   "outputs": [],
   "source": [
    "import datetime\n",
    "import csv\n",
    "import ast\n",
    "\n",
    "def roundTimeToGivenSecondLapse(dt=None, roundTo=60):\n",
    "   \"\"\"Round a datetime object to any time laps in seconds\n",
    "   dt : datetime.datetime object, default now.\n",
    "   roundTo : Closest number of seconds to round to, default 1 minute.\n",
    "   Author: Thierry Husson 2012 - Use it as you want but don't blame me.\n",
    "   \"\"\"\n",
    "   if dt == None : dt = datetime.datetime.now()\n",
    "   seconds = (dt.replace(tzinfo=None) - dt.min).seconds\n",
    "   rounding = (seconds+roundTo/2) // roundTo * roundTo\n",
    "   return dt + datetime.timedelta(0,rounding-seconds,-dt.microsecond)\n",
    "\n",
    "\n",
    "\n",
    "def getTripMileStoneTimes(index,row):\n",
    "    tripMileStaoneTimesRow={}\n",
    "    mileStoneCount = routeDict[(row['startStationId'], row['endStationId'])]['milestoneCount']\n",
    "    mileStoneTimes= []\n",
    "#     print  row['Start Date'], mileStoneCount, row['Duration']\n",
    "\n",
    "    tripMileStaoneTimesRow['tripID'] = index\n",
    "    tripMileStaoneTimesRow['startTime'] = row['Start Date']\n",
    "    tripMileStaoneTimesRow['duration'] = row['Duration']\n",
    "    tripMileStaoneTimesRow['startStationId'] = row['startStationId']\n",
    "    tripMileStaoneTimesRow['endStationId'] = row['endStationId']\n",
    "    \n",
    "    curMileStoneIndex = 0\n",
    "    while (curMileStoneIndex < mileStoneCount):\n",
    "#         print row['Start Date'], (row['Duration'] * curMileStoneIndex)/mileStoneCount \n",
    "#         print row['Start Date'], (row['Duration'] * curMileStoneIndex)/mileStoneCount \n",
    "        currentMilestoneDuration= (row['Duration'] * curMileStoneIndex)/mileStoneCount \n",
    "        mileStoneTime = datetime.datetime.strptime(row['Start Date'], \"%m/%d/%y %H:%M\") + datetime.timedelta(seconds=currentMilestoneDuration)\n",
    "#         print roundTimeToGivenSecondLapse(mileStoneTime,10)\n",
    "\n",
    "        currentMilestoneTime = roundTimeToGivenSecondLapse(mileStoneTime,10)\n",
    "        currentMilestoneTimeStr = currentMilestoneTime.strftime(\"%m/%d/%y %H:%M:%S\")\n",
    "        mileStoneTimes.append(currentMilestoneTimeStr)\n",
    "        curMileStoneIndex = curMileStoneIndex + 1\n",
    "#     print(mileStoneTimes)\n",
    "    tripMileStaoneTimesRow['mileStoneTimes'] = mileStoneTimes\n",
    "    return tripMileStaoneTimesRow\n",
    "\n"
   ]
  },
  {
   "cell_type": "code",
   "execution_count": 17,
   "metadata": {
    "collapsed": false
   },
   "outputs": [
    {
     "data": {
      "text/plain": [
       "167"
      ]
     },
     "execution_count": 17,
     "metadata": {},
     "output_type": "execute_result"
    }
   ],
   "source": [
    "\n",
    "tripsOfTopRoutes = pd.DataFrame.from_csv('./data/2014_SF_TripsOfTop30Routes_Aug2013.csv')\n",
    "len(tripsOfTopRoutes)\n"
   ]
  },
  {
   "cell_type": "code",
   "execution_count": 18,
   "metadata": {
    "collapsed": false
   },
   "outputs": [
    {
     "name": "stdout",
     "output_type": "stream",
     "text": [
      "done\n"
     ]
    }
   ],
   "source": [
    "toCSV=[]\n",
    "for index, row in tripsOfTopRoutes.iterrows():\n",
    "    if (row['startStationId'] != row['endStationId']):\n",
    "        tripMilestoneTimesRow = getTripMileStoneTimes(index,row)\n",
    "        toCSV.append(tripMilestoneTimesRow)\n",
    "\n",
    "# keys = milestoneRow.keys()\n",
    "keys=[\n",
    " 'tripID',\n",
    " 'startTime',\n",
    " 'duration',\n",
    " 'startStationId',\n",
    " 'endStationId',\n",
    " 'mileStoneTimes']\n",
    "with open('./data/2014_SF_TripsOfTop30Routes_Aug2013_Milestones.csv', 'wb') as output_file:\n",
    "    dict_writer = csv.DictWriter(output_file, keys)\n",
    "    dict_writer.writeheader()\n",
    "    dict_writer.writerows(toCSV)\n",
    "print 'done'"
   ]
  },
  {
   "cell_type": "code",
   "execution_count": null,
   "metadata": {
    "collapsed": false
   },
   "outputs": [],
   "source": []
  },
  {
   "cell_type": "code",
   "execution_count": null,
   "metadata": {
    "collapsed": true
   },
   "outputs": [],
   "source": []
  },
  {
   "cell_type": "code",
   "execution_count": null,
   "metadata": {
    "collapsed": false
   },
   "outputs": [],
   "source": []
  },
  {
   "cell_type": "code",
   "execution_count": null,
   "metadata": {
    "collapsed": true
   },
   "outputs": [],
   "source": []
  }
 ],
 "metadata": {
  "kernelspec": {
   "display_name": "Python 2",
   "language": "python",
   "name": "python2"
  },
  "language_info": {
   "codemirror_mode": {
    "name": "ipython",
    "version": 2
   },
   "file_extension": ".py",
   "mimetype": "text/x-python",
   "name": "python",
   "nbconvert_exporter": "python",
   "pygments_lexer": "ipython2",
   "version": "2.7.13"
  }
 },
 "nbformat": 4,
 "nbformat_minor": 2
}
