{
 "cells": [
  {
   "cell_type": "code",
   "execution_count": null,
   "metadata": {
    "collapsed": false
   },
   "outputs": [],
   "source": [
    "%matplotlib inline\n",
    "import pandas as pd\n",
    "\n",
    "\n",
    "tripsDataFile = '../201402_Trips_WithBicycleDistanceSpeed.csv'\n",
    "\n",
    "trips = pd.DataFrame.from_csv(tripsDataFile)\n",
    "trips = trips[(trips['Duration'] <= 5400) & (trips['Duration'] > 60)]\n"
   ]
  },
  {
   "cell_type": "code",
   "execution_count": null,
   "metadata": {
    "collapsed": true
   },
   "outputs": [],
   "source": [
    "\n",
    "import datetime as datetime\n",
    "\n",
    "# def groupByHour(starttime):\n",
    "#     startdatetime = datetime.datetime.strptime(starttime, '%m/%d/%Y %H:%M')\n",
    "#     return startdatetime.hour\n",
    "\n",
    "\n",
    "def groupByHour(starttime):\n",
    "    timestamp = datetime.datetime.strptime(starttime, '%m/%d/%Y %H:%M')\n",
    "    year = timestamp.year\n",
    "    month = timestamp.month\n",
    "    day = timestamp.day\n",
    "    hour = timestamp.hour\n",
    "    return datetime.datetime(year, month, day, hour, 0)"
   ]
  },
  {
   "cell_type": "code",
   "execution_count": null,
   "metadata": {
    "collapsed": false
   },
   "outputs": [],
   "source": [
    "\n",
    "trips['starthour']=trips['Start Date'].map(groupByHour)\n",
    "tripStationHours=trips[['startStationId', 'starthour']].reset_index()\n",
    "\n",
    "tripStationHourCounts = tripStationHours.groupby(['startStationId', 'starthour'])['Trip ID'].count().reset_index(name=\"startTripCount\")\n",
    "tripStationHourCounts"
   ]
  },
  {
   "cell_type": "code",
   "execution_count": null,
   "metadata": {
    "collapsed": false
   },
   "outputs": [],
   "source": []
  },
  {
   "cell_type": "code",
   "execution_count": 14,
   "metadata": {
    "collapsed": false
   },
   "outputs": [
    {
     "data": {
      "text/plain": [
       "[70, 50, 60, 77, 55, 69, 61]"
      ]
     },
     "execution_count": 14,
     "metadata": {},
     "output_type": "execute_result"
    }
   ],
   "source": [
    "topStationsByCounts=[70,50,60,77,55,69,61]\n",
    "topStationsByCounts"
   ]
  },
  {
   "cell_type": "code",
   "execution_count": 15,
   "metadata": {
    "collapsed": false
   },
   "outputs": [],
   "source": [
    "topStationHourlyCounts=tripStationHourCounts.loc[tripStationHourCounts['startStationId'].isin(topStationsByCounts)]"
   ]
  },
  {
   "cell_type": "code",
   "execution_count": 22,
   "metadata": {
    "collapsed": false
   },
   "outputs": [],
   "source": [
    "topStationHourlyCounts['startStationId'].unique()\n",
    "\n",
    "topStationHourlyCounts.to_csv('./hourlyPatterns/201402_TopStationHourlyCounts.csv',index=False)"
   ]
  },
  {
   "cell_type": "code",
   "execution_count": null,
   "metadata": {
    "collapsed": false
   },
   "outputs": [],
   "source": [
    "\n",
    "topStationHourlyCounts = pd.DataFrame.from_csv('./hourlyPatterns/201402_TopStationHourlyCounts.csv')\n",
    "topStationHourlyCounts=topStationHourlyCounts.reset_index()\n",
    "topStationHourlyCounts\n",
    "topStationHourlyCounts.pivot(index='starthour', columns='startStationId', values='startTripCount')\n",
    " topStationHourlyCounts.fillna(0)"
   ]
  },
  {
   "cell_type": "code",
   "execution_count": null,
   "metadata": {
    "collapsed": false
   },
   "outputs": [],
   "source": [
    "topStationHourlyCounts\n"
   ]
  },
  {
   "cell_type": "code",
   "execution_count": null,
   "metadata": {
    "collapsed": true
   },
   "outputs": [],
   "source": [
    "\n",
    "import matplotlib.pyplot as plt\n",
    "%matplotlib inline\n",
    "# plot = topStationHourlyCounts.plot(x='starthour', kind='bar',title='topStationCountsOverTime')\n",
    "\n",
    "plot=topStationHourlyCounts.plot(style=['o','rx'])\n",
    "fig = plot.get_figure()\n",
    "fig.savefig(\"./hourlyPatterns/topStationCountsOverTime.png\")"
   ]
  }
 ],
 "metadata": {
  "kernelspec": {
   "display_name": "Python 2",
   "language": "python",
   "name": "python2"
  },
  "language_info": {
   "codemirror_mode": {
    "name": "ipython",
    "version": 2
   },
   "file_extension": ".py",
   "mimetype": "text/x-python",
   "name": "python",
   "nbconvert_exporter": "python",
   "pygments_lexer": "ipython2",
   "version": "2.7.13"
  }
 },
 "nbformat": 4,
 "nbformat_minor": 2
}
