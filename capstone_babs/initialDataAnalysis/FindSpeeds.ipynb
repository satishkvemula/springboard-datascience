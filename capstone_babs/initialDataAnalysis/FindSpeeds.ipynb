{
 "cells": [
  {
   "cell_type": "code",
   "execution_count": 3,
   "metadata": {
    "collapsed": false
   },
   "outputs": [],
   "source": [
    "import pandas as pd\n",
    "\n",
    "tripsDataWithDistanceFile='201402_Trips_WithBicycleDistance.csv'\n",
    "\n",
    "# 201402_trip_data.csv\n",
    "\n",
    "trips = pd.DataFrame.from_csv(tripsDataWithDistanceFile, index_col='Trip ID', encoding='utf-8')\n",
    "\n",
    "\n",
    "trips['AvgSpeed'] = trips.apply(lambda row: ((row['distance']/1609.344)/(row['Duration']/3600)) if pd.notnull(row['distance']) \n",
    "                 else None               , axis=1)\n"
   ]
  },
  {
   "cell_type": "code",
   "execution_count": 4,
   "metadata": {
    "collapsed": true
   },
   "outputs": [],
   "source": [
    "trips.to_csv('201402_Trips_WithBicycleDistanceSpeed.csv')"
   ]
  },
  {
   "cell_type": "code",
   "execution_count": null,
   "metadata": {
    "collapsed": true
   },
   "outputs": [],
   "source": []
  }
 ],
 "metadata": {
  "kernelspec": {
   "display_name": "Python 3",
   "language": "python",
   "name": "python3"
  },
  "language_info": {
   "codemirror_mode": {
    "name": "ipython",
    "version": 3
   },
   "file_extension": ".py",
   "mimetype": "text/x-python",
   "name": "python",
   "nbconvert_exporter": "python",
   "pygments_lexer": "ipython3",
   "version": "3.6.0"
  }
 },
 "nbformat": 4,
 "nbformat_minor": 2
}
