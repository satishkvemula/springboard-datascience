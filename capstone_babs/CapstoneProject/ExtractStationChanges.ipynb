{
 "cells": [
  {
   "cell_type": "code",
   "execution_count": 24,
   "metadata": {
    "collapsed": false
   },
   "outputs": [],
   "source": [
    "#Get Station Dict\n",
    "import pandas as pd\n",
    "stationData = pd.DataFrame.from_csv('./data/201402_station_data.csv')\n",
    "# help(sampleTripMilestones)\n",
    "\n",
    "stationDict={}\n",
    "for index, row in stationData.reset_index().iterrows():\n",
    "    stationDict[row['name']] = row['station_id']\n",
    "\n",
    "# stationDict"
   ]
  },
  {
   "cell_type": "code",
   "execution_count": 25,
   "metadata": {
    "collapsed": false
   },
   "outputs": [
    {
     "name": "stdout",
     "output_type": "stream",
     "text": [
      "done\n"
     ]
    }
   ],
   "source": [
    "# #Get the Station Bike changes. Each trip results in one +. one - entry\n",
    "import csv\n",
    "tripFile = './data/201402_trip_data.csv'\n",
    "stationChangeFile = 'extractedData/201402_StationChanges.csv'\n",
    "with open(tripFile,\"r\") as source:\n",
    "    rdr= csv.reader( source )\n",
    "    with open(stationChangeFile,\"w\") as stationChange:\n",
    "        wtr= csv.writer( stationChange )\n",
    "        wtr.writerow(('Time','Station','Change'))\n",
    "        rowCount=0\n",
    "        for r in rdr:\n",
    "#             if (rowCount > 5):\n",
    "#                 break\n",
    "            if (rowCount == 0):\n",
    "                rowCount = rowCount + 1\n",
    "                continue\n",
    "#                 StartTime, startStation, and -1 to indicate one bike less\n",
    "            wtr.writerow( (r [2], stationDict[r[3]], -1 ) )\n",
    "#                 EndTime, endStation, and 1 to indicate one bike more\n",
    "            wtr.writerow( (r [5], stationDict[r[6]], 1 ) )\n",
    "#             print rowCount\n",
    "            rowCount = rowCount + 1\n",
    "\n",
    "print 'done'"
   ]
  },
  {
   "cell_type": "code",
   "execution_count": 26,
   "metadata": {
    "collapsed": false
   },
   "outputs": [],
   "source": [
    "# # Sum the counts per minute\n",
    "\n",
    "import pandas as pd\n",
    "\n",
    "\n",
    "stationData = pd.DataFrame.from_csv('./data/201402_station_data.csv')\n",
    "# stationData\n",
    "stationChanges = pd.DataFrame.from_csv('./extractedData/201402_StationChanges.csv')\n",
    "\n",
    "stationChanges=stationChanges.reset_index()\n",
    "\n",
    "\n",
    "stationChangesByMinute= stationChanges.groupby(['Time', 'Station'])[[\"Change\"]].sum()\n",
    "\n",
    "stationChangesByMinute=stationChangesByMinute.reset_index()\n",
    "stationChangesByMinuteSorted = stationChangesByMinute.sort_values(['Station', 'Time'], ascending=[True, True])\n",
    "\n",
    "stationChangesByMinuteSorted.to_csv('./extractedData/201402_StationChangesByMinute.csv',index=False)\n"
   ]
  },
  {
   "cell_type": "code",
   "execution_count": 10,
   "metadata": {
    "collapsed": false
   },
   "outputs": [],
   "source": []
  },
  {
   "cell_type": "code",
   "execution_count": 28,
   "metadata": {
    "collapsed": false
   },
   "outputs": [],
   "source": [
    "# Per 10 minutes\n",
    "import pandas as pd\n",
    "import datetime as datetime\n",
    "\n",
    "stationChangesByMinute = pd.DataFrame.from_csv('./extractedData/201402_StationChangesByMinute.csv')\n",
    "stationChangesByMinute = stationChangesByMinute.reset_index()\n",
    "# stationChangesByMinute\n",
    "\n",
    "def groupBy10Minute(timestamp):\n",
    "    year = timestamp.year\n",
    "    month = timestamp.month\n",
    "    day = timestamp.day\n",
    "    hour = timestamp.hour\n",
    "    minute = timestamp.minute\n",
    "    minute=((minute/10)*10)\n",
    "    return datetime.datetime(year, month, day, hour, minute)\n",
    "\n",
    "stationChangesByMinute['Time']=stationChangesByMinute['Time'].map(groupBy10Minute)\n",
    "stationChangesBy10Minutes=stationChangesByMinute\n",
    "stationChangesBy10Minutes= stationChangesBy10Minutes.groupby(['Time', 'Station'])[[\"Change\"]].sum()\n",
    "\n",
    "\n",
    "stationChangesBy10Minutes=stationChangesBy10Minutes.reset_index()\n",
    "stationChangesBy10Minutes = stationChangesBy10Minutes.sort_values(['Station', 'Time'], ascending=[True, True])\n",
    "stationChangesBy10Minutes.to_csv('./extractedData/201402_StationChangesBy10Minute.csv',index=False)\n"
   ]
  },
  {
   "cell_type": "code",
   "execution_count": 29,
   "metadata": {
    "collapsed": false
   },
   "outputs": [],
   "source": [
    "# Per hour\n",
    "import pandas as pd\n",
    "import datetime as datetime\n",
    "\n",
    "stationChangesByMinute = pd.DataFrame.from_csv('./extractedData/201402_StationChangesByMinute.csv')\n",
    "stationChangesByMinute = stationChangesByMinute.reset_index()\n",
    "# stationChangesByMinute\n",
    "\n",
    "def groupByHour(timestamp):\n",
    "    year = timestamp.year\n",
    "    month = timestamp.month\n",
    "    day = timestamp.day\n",
    "    hour = timestamp.hour\n",
    "    return datetime.datetime(year, month, day, hour, 0)\n",
    "\n",
    "stationChangesByMinute['Time']=stationChangesByMinute['Time'].map(groupByHour)\n",
    "stationChangesByHour=stationChangesByMinute\n",
    "stationChangesByHour= stationChangesByHour.groupby(['Time', 'Station'])[[\"Change\"]].sum()\n",
    "\n",
    "\n",
    "stationChangesByHour=stationChangesByHour.reset_index()\n",
    "stationChangesByHour = stationChangesByHour.sort_values(['Station', 'Time'], ascending=[True, True])\n",
    "stationChangesByHour.to_csv('./extractedData/201402_StationChangesByHour.csv',index=False)\n"
   ]
  },
  {
   "cell_type": "code",
   "execution_count": 31,
   "metadata": {
    "collapsed": false
   },
   "outputs": [],
   "source": [
    "# Per Day\n",
    "\n",
    "import pandas as pd\n",
    "import datetime as datetime\n",
    "\n",
    "stationChangesByMinute = pd.DataFrame.from_csv('./extractedData/201402_StationChangesByMinute.csv')\n",
    "stationChangesByMinute = stationChangesByMinute.reset_index()\n",
    "# stationChangesByMinute\n",
    "\n",
    "def groupByDay(timestamp):\n",
    "    year = timestamp.year\n",
    "    month = timestamp.month\n",
    "    day = timestamp.day\n",
    "    hour = timestamp.hour\n",
    "    return datetime.datetime(year, month, day, 0, 0)\n",
    "\n",
    "stationChangesByMinute['Time']=stationChangesByMinute['Time'].map(groupByDay)\n",
    "stationChangesByDay=stationChangesByMinute\n",
    "stationChangesByDay= stationChangesByDay.groupby(['Time', 'Station'])[[\"Change\"]].sum()\n",
    "\n",
    "\n",
    "stationChangesByDay=stationChangesByDay.reset_index()\n",
    "stationChangesByDay = stationChangesByDay.sort_values(['Station', 'Time'], ascending=[True, True])\n",
    "stationChangesByDay.to_csv('./extractedData/201402_StationChangesByDay.csv',index=False)"
   ]
  },
  {
   "cell_type": "code",
   "execution_count": 9,
   "metadata": {
    "collapsed": false
   },
   "outputs": [],
   "source": []
  },
  {
   "cell_type": "code",
   "execution_count": 8,
   "metadata": {
    "collapsed": true
   },
   "outputs": [],
   "source": [
    "\n"
   ]
  },
  {
   "cell_type": "code",
   "execution_count": null,
   "metadata": {
    "collapsed": true
   },
   "outputs": [],
   "source": []
  }
 ],
 "metadata": {
  "kernelspec": {
   "display_name": "Python 2",
   "language": "python",
   "name": "python2"
  },
  "language_info": {
   "codemirror_mode": {
    "name": "ipython",
    "version": 2
   },
   "file_extension": ".py",
   "mimetype": "text/x-python",
   "name": "python",
   "nbconvert_exporter": "python",
   "pygments_lexer": "ipython2",
   "version": "2.7.13"
  }
 },
 "nbformat": 4,
 "nbformat_minor": 2
}
