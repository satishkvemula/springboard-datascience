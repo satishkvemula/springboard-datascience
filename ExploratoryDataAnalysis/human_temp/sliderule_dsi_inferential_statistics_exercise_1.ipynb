{
 "cells": [
  {
   "cell_type": "markdown",
   "metadata": {},
   "source": [
    "# What is the True Normal Human Body Temperature? \n",
    "\n",
    "#### Background\n",
    "\n",
    "The mean normal body temperature was held to be 37$^{\\circ}$C or 98.6$^{\\circ}$F for more than 120 years since it was first conceptualized and reported by Carl Wunderlich in a famous 1868 book. But, is this value statistically correct?"
   ]
  },
  {
   "cell_type": "markdown",
   "metadata": {},
   "source": [
    "<div class=\"span5 alert alert-info\">\n",
    "<h3>Exercises</h3>\n",
    "\n",
    "<p>In this exercise, you will analyze a dataset of human body temperatures and employ the concepts of hypothesis testing, confidence intervals, and statistical significance.</p>\n",
    "\n",
    "<p>Answer the following questions <b>in this notebook below and submit to your Github account</b>.</p> \n",
    "\n",
    "<ol>\n",
    "<li>  Is the distribution of body temperatures normal? \n",
    "    <ul>\n",
    "    <li> Although this is not a requirement for CLT to hold (read CLT carefully), it gives us some peace of mind that the population may also be normally distributed if we assume that this sample is representative of the population.\n",
    "    </ul>\n",
    "<li>  Is the sample size large? Are the observations independent?\n",
    "    <ul>\n",
    "    <li> Remember that this is a condition for the CLT, and hence the statistical tests we are using, to apply.\n",
    "    </ul>\n",
    "<li>  Is the true population mean really 98.6 degrees F?\n",
    "    <ul>\n",
    "    <li> Would you use a one-sample or two-sample test? Why?\n",
    "    <li> In this situation, is it appropriate to use the $t$ or $z$ statistic? \n",
    "    <li> Now try using the other test. How is the result be different? Why?\n",
    "    </ul>\n",
    "<li>  At what temperature should we consider someone's temperature to be \"abnormal\"?\n",
    "    <ul>\n",
    "    <li> Start by computing the margin of error and confidence interval.\n",
    "    </ul>\n",
    "<li>  Is there a significant difference between males and females in normal temperature?\n",
    "    <ul>\n",
    "    <li> What test did you use and why?\n",
    "    <li> Write a story with your conclusion in the context of the original problem.\n",
    "    </ul>\n",
    "</ol>\n",
    "\n",
    "You can include written notes in notebook cells using Markdown: \n",
    "   - In the control panel at the top, choose Cell > Cell Type > Markdown\n",
    "   - Markdown syntax: http://nestacms.com/docs/creating-content/markdown-cheat-sheet\n",
    "\n",
    "#### Resources\n",
    "\n",
    "+ Information and data sources: http://www.amstat.org/publications/jse/datasets/normtemp.txt, http://www.amstat.org/publications/jse/jse_data_archive.htm\n",
    "+ Markdown syntax: http://nestacms.com/docs/creating-content/markdown-cheat-sheet\n",
    "\n",
    "****\n",
    "</div>"
   ]
  },
  {
   "cell_type": "markdown",
   "metadata": {},
   "source": [
    "<div class=\"span5 alert alert-info\">\n",
    "<h3>Exercise Answers</h3>\n",
    "\n",
    "<ol>\n",
    "<li>  Is the distribution of body temperatures normal? \n",
    "    <ul>\n",
    "    <li> The histogram plots using the given data tells that the distribution is close to normal, and is close to a bell curve shape. The corresponding normal test has the p-values are higher than 0.05\n",
    "    </ul>\n",
    "<li>  Is the sample size large? Are the observations independent?\n",
    "    <ul>\n",
    "    <li> The sample size is large enough. It is much higher than '30' to make it qualify for CLT\n",
    "    <li> We dont have any information that tells more about the sample subjects. Heart rate/Gender does not give too much insight either. And between M/F genders the sample sizes are of same size. We can proceed, assuming an independent sample.\n",
    "    </ul>\n",
    "<li>  Is the true population mean really 98.6 degrees F? ..Run a hypothesis test\n",
    "    <ul>\n",
    "    <li> Would you use a one-sample or two-sample test? Why? I would use one sample test. Since the hypothesis test is over an entire population, and we are not doing any test involving two groups, one-sample test is appropriate. Here, we are comparing the mean of a sample against some fixed value. Later when we do male vs female populations, two sample test could be appropriate\n",
    "    <li> In this situation, is it appropriate to use the $t$ or $z$ statistic? It is appropriate to use Z statistic as the sample size is sufficiently large.\n",
    "    <li> Now try using the other test. How is the result be different? Why? Since the number of degrees of freedom is high, difficult to do $t$ test\n",
    "    </ul>\n",
    "<li>  At what temperature should we consider someone's temperature to be \"abnormal\"?\n",
    "    <ul>\n",
    "    <li> Start by computing the margin of error and confidence interval.\n",
    "    <li> The confidence interval with 95% confidence is (98.122002905608014,\n",
    " 98.376458632853485), with a margin of error 0.1272278636227305\n",
    "    </ul>\n",
    "<li>  Is there a significant difference between males and females in normal temperature?\n",
    "    <ul>\n",
    "    <li> What test did you use and why?\n",
    "    <li> Write a story with your conclusion in the context of the original problem.\n",
    "    </ul>\n",
    "</ol>\n",
    "\n",
    "\n",
    "You can include written notes in notebook cells using Markdown: \n",
    "   - In the control panel at the top, choose Cell > Cell Type > Markdown\n",
    "   - Markdown syntax: http://nestacms.com/docs/creating-content/markdown-cheat-sheet\n",
    "\n",
    "#### Resources\n",
    "\n",
    "+ Information and data sources: http://www.amstat.org/publications/jse/datasets/normtemp.txt, http://www.amstat.org/publications/jse/jse_data_archive.htm\n",
    "+ Markdown syntax: http://nestacms.com/docs/creating-content/markdown-cheat-sheet\n",
    "\n",
    "****\n",
    "</div>"
   ]
  },
  {
   "cell_type": "code",
   "execution_count": 135,
   "metadata": {
    "collapsed": false
   },
   "outputs": [],
   "source": [
    "import pandas as pd\n",
    "from __future__ import print_function, division\n",
    "\n",
    "import numpy\n",
    "import scipy.stats\n",
    "\n",
    "import matplotlib.pyplot as pyplot\n",
    "\n",
    "from ipywidgets import interact, interactive, fixed\n",
    "import ipywidgets as widgets\n",
    "\n",
    "\n",
    "df = pd.read_csv('data/human_body_temperature.csv')\n",
    "df= df[['temperature','gender','heart_rate']]\n",
    "femaleData=df[df['gender']=='F'][['temperature','gender','heart_rate']]\n",
    "maleData=df[df['gender']=='M'][['temperature','gender','heart_rate']]\n",
    "# df.size\n",
    "# df['temperature'].values\n",
    "# print('Sample distribution over ', df[['gender']].groupby(['gender']).size())"
   ]
  },
  {
   "cell_type": "code",
   "execution_count": 138,
   "metadata": {
    "collapsed": false
   },
   "outputs": [
    {
     "name": "stdout",
     "output_type": "stream",
     "text": [
      "Mean , SD  98.2492307692 0.730357778905\n",
      "Temperature normal test NormaltestResult(statistic=2.7038014333192031, pvalue=0.2587479863488254)\n"
     ]
    }
   ],
   "source": [
    "# Your work here.\n",
    "\n",
    "import scipy.stats as stats\n",
    "print('Mean , SD ', df['temperature'].mean(), numpy.std(df['temperature'], axis=0))\n",
    "print('Temperature normal test', stats.normaltest(df['temperature']))\n",
    "# print('Female Temperature normal test', stats.normaltest(femaleData['temperature']))\n",
    "# print('Male Temperature normal test', stats.normaltest(maleData['temperature']))"
   ]
  },
  {
   "cell_type": "code",
   "execution_count": 167,
   "metadata": {
    "collapsed": false
   },
   "outputs": [
    {
     "data": {
      "text/plain": [
       "(98.249230769230749,\n",
       " 0.1272278636227305,\n",
       " 98.122002905608014,\n",
       " 98.376458632853485)"
      ]
     },
     "execution_count": 167,
     "metadata": {},
     "output_type": "execute_result"
    }
   ],
   "source": [
    "import numpy as np\n",
    "import scipy as sp\n",
    "import scipy.stats\n",
    "\n",
    "def mean_confidence_interval(data, confidence=0.95):\n",
    "    a = np.array(data)\n",
    "    n = len(a)\n",
    "    m, se = np.mean(a), scipy.stats.sem(a)\n",
    "    h = se * sp.stats.t._ppf((1+confidence)/2., n-1)\n",
    "#     print (h)\n",
    "    return m, h, m-h, m+h\n",
    "\n",
    "mean_confidence_interval(df['temperature'].values)\n"
   ]
  },
  {
   "cell_type": "code",
   "execution_count": 166,
   "metadata": {
    "collapsed": false
   },
   "outputs": [
    {
     "data": {
      "text/plain": [
       "(98.249230769230749, 0.064304416837891024, 0.73035777890503795)"
      ]
     },
     "execution_count": 166,
     "metadata": {},
     "output_type": "execute_result"
    }
   ],
   "source": [
    "\n",
    "temps = df['temperature'].values\n",
    "np.mean(temps), scipy.stats.sem(temps), numpy.std(df['temperature'].values, axis=0)"
   ]
  },
  {
   "cell_type": "code",
   "execution_count": 140,
   "metadata": {
    "collapsed": false
   },
   "outputs": [
    {
     "data": {
      "image/png": "[encoded data removed]",
      "text/plain": [
       "<matplotlib.figure.Figure at 0x1191b1e50>"
      ]
     },
     "metadata": {},
     "output_type": "display_data"
    },
    {
     "data": {
      "text/plain": [
       "5.475925202078116"
      ]
     },
     "execution_count": 140,
     "metadata": {},
     "output_type": "execute_result"
    }
   ],
   "source": [
    "# %matplotlib inline\n",
    "# import matplotlib.pyplot as plt\n",
    "\n",
    "# import numpy as np\n",
    "# import matplotlib.mlab as mlab\n",
    "# import math\n",
    "# # df['temperature'].hist()\n",
    "# # femaleData['temperature'].hist()\n",
    "# # maleData['temperature'].hist()\n",
    "\n",
    "# import numpy\n",
    "\n",
    "# mu = df['temperature'].mean()\n",
    "# std=numpy.std(df['temperature'], axis=0)\n",
    "# sigma = std * std\n",
    "# x = np.linspace(mu-3*sigma,mu+3*sigma, 100)\n",
    "# plt.plot(x,mlab.normpdf(x, mu, sigma))\n",
    "\n",
    "\n",
    "# # plt.plot(x, scipy.stats.norm(loc = mu, scale=std))\n",
    "\n",
    "# stdAdjustedToSample = std/(math.sqrt(130))\n",
    "\n",
    "# plt.show()\n",
    "\n",
    "# zScoreOf986 = (98.6 - mu)/stdAdjustedToSample\n",
    "# zScoreOf986"
   ]
  },
  {
   "cell_type": "code",
   "execution_count": 162,
   "metadata": {
    "collapsed": false
   },
   "outputs": [
    {
     "data": {
      "image/png": "[encoded data removed]",
      "text/plain": [
       "<matplotlib.figure.Figure at 0x119101790>"
      ]
     },
     "metadata": {},
     "output_type": "display_data"
    },
    {
     "data": {
      "text/plain": [
       "(('SamplingMean', 'SamplingSE', '5,95 percentile'),\n",
       " (98.272917293401576,\n",
       "  0.14493589085800601,\n",
       "  array([ 97.93534339,  98.59454095])))"
      ]
     },
     "execution_count": 162,
     "metadata": {},
     "output_type": "execute_result"
    }
   ],
   "source": [
    "\n",
    "def make_sample(n=50):\n",
    "    sampleOfSample = scipy.stats.norm(df['temperature'].values)\n",
    "    sampleRV=sampleOfSample.rvs(random_state=1234)\n",
    "#     print(df['temperature'].values.size, sampleRV.size, n)\n",
    "    sample =numpy.random.choice(sampleRV, size=n)\n",
    "    return sample\n",
    "\n",
    "def sample_stat(sample):\n",
    "    return sample.mean()\n",
    "\n",
    "def compute_sample_statistics(n=50, iters=1000):\n",
    "    stats = [sample_stat(make_sample(n)) for i in range(iters)]\n",
    "    return numpy.array(stats)\n",
    "\n",
    "sample_means = compute_sample_statistics(n=65, iters=1000)\n",
    "# pyplot.hist(sample_means, color='#beaed4')\n",
    "# pyplot.xlabel('sample mean (n=65)')\n",
    "# pyplot.ylabel('count')\n",
    "# plt.show()\n",
    "\n",
    "\n",
    "mu = sample_means.mean()\n",
    "se=scipy.stats.sem(temps)\n",
    "sigma = se * se\n",
    "x = np.linspace(mu-3*sigma,mu+3*sigma, 100)\n",
    "plt.plot(x,mlab.normpdf(x, mu, sigma))\n",
    "\n",
    "plt.show()\n",
    "\n",
    "('SamplingMean', 'SamplingSE', '5,95 percentile'), (sample_means.mean(), sample_means.std(), numpy.percentile(sample_means, [1, 99]))\n"
   ]
  },
  {
   "cell_type": "code",
   "execution_count": null,
   "metadata": {
    "collapsed": true
   },
   "outputs": [],
   "source": []
  }
 ],
 "metadata": {
  "kernelspec": {
   "display_name": "Python 2",
   "language": "python",
   "name": "python2"
  },
  "language_info": {
   "codemirror_mode": {
    "name": "ipython",
    "version": 2
   },
   "file_extension": ".py",
   "mimetype": "text/x-python",
   "name": "python",
   "nbconvert_exporter": "python",
   "pygments_lexer": "ipython2",
   "version": "2.7.13"
  }
 },
 "nbformat": 4,
 "nbformat_minor": 0
}
